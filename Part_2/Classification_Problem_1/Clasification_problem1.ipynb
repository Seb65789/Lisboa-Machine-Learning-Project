{
 "cells": [
  {
   "cell_type": "markdown",
   "metadata": {},
   "source": [
    "# Group 96"
   ]
  },
  {
   "cell_type": "code",
   "execution_count": 1,
   "metadata": {},
   "outputs": [],
   "source": [
    "#!pip install keras --upgrade\n",
    "#!pip install tensorflow --upgrade\n",
    "#!pip install imblearn\n"
   ]
  },
  {
   "cell_type": "code",
   "execution_count": 1,
   "metadata": {},
   "outputs": [
    {
     "name": "stderr",
     "output_type": "stream",
     "text": [
      "2024-10-18 20:10:10.109168: I tensorflow/core/platform/cpu_feature_guard.cc:210] This TensorFlow binary is optimized to use available CPU instructions in performance-critical operations.\n",
      "To enable the following instructions: AVX2 AVX512F AVX512_VNNI FMA, in other operations, rebuild TensorFlow with the appropriate compiler flags.\n"
     ]
    }
   ],
   "source": [
    "import numpy as np\n",
    "import matplotlib.pyplot as plt\n",
    "from skimage import io, filters\n",
    "from skimage import feature\n",
    "from imblearn.under_sampling import RandomUnderSampler\n",
    "from skimage import feature, draw\n",
    "from skimage.transform import hough_circle, hough_circle_peaks\n",
    "from sklearn.model_selection import train_test_split\n",
    "import keras\n",
    "from keras.models import Sequential\n",
    "from keras.layers import Dense, Flatten\n",
    "from keras.callbacks import EarlyStopping, ModelCheckpoint\n",
    "import imblearn as imb\n",
    "from sklearn.metrics import f1_score,precision_score, recall_score,accuracy_score\n",
    "from sklearn.metrics import confusion_matrix, ConfusionMatrixDisplay\n",
    "import torch\n",
    "import torch.nn as nn\n",
    "import torch.nn.functional as F\n",
    "import torch.optim as optim\n",
    "import torchvision.datasets as dset\n",
    "import torchvision.transforms as transforms\n",
    "from torchvision.utils import make_grid\n",
    "import tensorflow as tf\n",
    "from torch.utils.data import TensorDataset, DataLoader\n",
    "from imblearn.over_sampling import RandomOverSampler\n",
    "from torch.optim.lr_scheduler import ReduceLROnPlateau\n",
    "from sklearn.ensemble import RandomForestClassifier\n",
    "from sklearn.model_selection import RandomizedSearchCV\n",
    "from sklearn.model_selection import GridSearchCV"
   ]
  },
  {
   "cell_type": "markdown",
   "metadata": {},
   "source": [
    "## Data Import"
   ]
  },
  {
   "cell_type": "code",
   "execution_count": 2,
   "metadata": {},
   "outputs": [
    {
     "name": "stdout",
     "output_type": "stream",
     "text": [
      "(2783, 2304)\n"
     ]
    }
   ],
   "source": [
    "X_train = np.load('Xtrain1.npy')\n",
    "y_train = np.load('Ytrain1.npy')\n",
    "X_test = np.load('Xtest1.npy')\n",
    "X_train1_extra = np.load('Xtrain1_extra.npy')\n",
    "# Size of the training set\n",
    "\n",
    "print(X_train.shape) # 2700 images of size 48x48\n",
    "\n",
    "# Hot Encoding the labels\n",
    "train_labels = keras.utils.to_categorical(y_train,2)"
   ]
  },
  {
   "cell_type": "markdown",
   "metadata": {},
   "source": [
    "## Pre-Treatment"
   ]
  },
  {
   "cell_type": "code",
   "execution_count": 3,
   "metadata": {},
   "outputs": [],
   "source": [
    "im = X_train.reshape(X_train.shape[0],48,48)    # Reshape the images to 48x48\n",
    "\n",
    "new = im.copy() # Copy the images to a new array\n",
    "\n",
    "threshold = 200\n",
    "for sample in range(im.shape[0]):\n",
    "\n",
    "  # Oustanding boundaries\n",
    "  for i in range(im.shape[1]):\n",
    "      for j in range(im.shape[2]):\n",
    "          if (im[sample][i][j] > threshold) | (im[sample][i][j] < 50):\n",
    "              new[sample][i][j] = 255\n",
    "          else:\n",
    "              new[sample][i][j] = 0\n",
    "\n",
    "  # Removing isolated pixels\n",
    "  for i in range(new.shape[1]):\n",
    "      for j in range(new.shape[2]):\n",
    "          if new[sample][i][j] == 255:\n",
    "              if (i>0) and (j>0) and (i<new.shape[1]-1) and (j<new.shape[2]-1):\n",
    "                  if ((new[sample][i-1][j]==0) and (new[sample][i+1][j]==0) and\n",
    "                      (new[sample][i][j-1]==0) and (new[sample][i][j+1]==0) and\n",
    "                      (new[sample][i-1][j-1]==0) and (new[sample][i-1][j+1]==0) and\n",
    "                      (new[sample][i+1][j-1]==0) and (new[sample][i+1][j+1]==0)):\n",
    "\n",
    "                        new[sample][i][j] = 0"
   ]
  },
  {
   "cell_type": "code",
   "execution_count": 4,
   "metadata": {},
   "outputs": [],
   "source": [
    "#Flatten the images\n",
    "X_train_processed = new.reshape(new.shape[0],48*48)"
   ]
  },
  {
   "cell_type": "markdown",
   "metadata": {},
   "source": [
    "### Pre processing : X_extra"
   ]
  },
  {
   "cell_type": "code",
   "execution_count": null,
   "metadata": {},
   "outputs": [],
   "source": [
    "im = X_train_extra.reshape(X_train_extra.shape[0],48,48)    # Reshape the images to 48x48\n",
    "\n",
    "new = im.copy() # Copy the images to a new array\n",
    "\n",
    "threshold = 200\n",
    "for sample in range(im.shape[0]):\n",
    "\n",
    "  # Oustanding boundaries\n",
    "  for i in range(im.shape[1]):\n",
    "      for j in range(im.shape[2]):\n",
    "          if (im[sample][i][j] > threshold) | (im[sample][i][j] < 50):\n",
    "              new[sample][i][j] = 255\n",
    "          else:\n",
    "              new[sample][i][j] = 0\n",
    "\n",
    "  # Removing isolated pixels\n",
    "  for i in range(new.shape[1]):\n",
    "      for j in range(new.shape[2]):\n",
    "          if new[sample][i][j] == 255:\n",
    "              if (i>0) and (j>0) and (i<new.shape[1]-1) and (j<new.shape[2]-1):\n",
    "                  if ((new[sample][i-1][j]==0) and (new[sample][i+1][j]==0) and\n",
    "                      (new[sample][i][j-1]==0) and (new[sample][i][j+1]==0) and\n",
    "                      (new[sample][i-1][j-1]==0) and (new[sample][i-1][j+1]==0) and\n",
    "                      (new[sample][i+1][j-1]==0) and (new[sample][i+1][j+1]==0)):\n",
    "\n",
    "                        new[sample][i][j] = 0"
   ]
  },
  {
   "cell_type": "code",
   "execution_count": null,
   "metadata": {},
   "outputs": [],
   "source": [
    "#Flatten the images\n",
    "X_extra_processed = new.reshape(new.shape[0],48*48)"
   ]
  },
  {
   "cell_type": "markdown",
   "metadata": {},
   "source": [
    "## Data Imbalance"
   ]
  },
  {
   "cell_type": "markdown",
   "metadata": {},
   "source": [
    "### The imbalance"
   ]
  },
  {
   "cell_type": "code",
   "execution_count": 5,
   "metadata": {},
   "outputs": [
    {
     "name": "stdout",
     "output_type": "stream",
     "text": [
      "The number of training samples with class 0 : 1006\n",
      "The number of training samples with class 1 : 1777\n",
      "The percentage of training samples with class 0 : 0.566122678671919\n"
     ]
    }
   ],
   "source": [
    "print(\"The number of training samples with class 0 :\", np.sum(y_train==0))\n",
    "print(\"The number of training samples with class 1 :\", np.sum(y_train==1))\n",
    "print(\"The percentage of training samples with class 0 :\", np.sum(y_train==0)/np.sum(y_train==1))"
   ]
  },
  {
   "cell_type": "markdown",
   "metadata": {},
   "source": [
    "### Random under-sampling"
   ]
  },
  {
   "cell_type": "markdown",
   "metadata": {},
   "source": [
    "We remove randomly the saples from class 1 "
   ]
  },
  {
   "cell_type": "code",
   "execution_count": 6,
   "metadata": {},
   "outputs": [],
   "source": [
    "#Random undersampling\n",
    "rus = imb.under_sampling.RandomUnderSampler(sampling_strategy=np.sum(y_train==0)/np.sum(y_train==1))\n",
    "\n",
    "X_train_RUS, y_train_RUS = rus.fit_resample(X_train_processed, y_train)\n",
    "X_train_RUS, X_val_RUS, y_train_RUS, y_val_RUS = train_test_split(X_train_RUS,y_train_RUS, test_size=0.2)\n",
    "\n",
    "# One hot encoding\n",
    "train_labels_RUS = keras.utils.to_categorical(y_train_RUS,2)\n",
    "val_labels_RUS = keras.utils.to_categorical(y_val_RUS,2)"
   ]
  },
  {
   "cell_type": "markdown",
   "metadata": {},
   "source": [
    "### Random over-sampling"
   ]
  },
  {
   "cell_type": "markdown",
   "metadata": {},
   "source": [
    "We randomly replicate data from class 0 to have the same amount as class 1.\n",
    "\n",
    "\n",
    "IT CAN INCREASE OVERFITTING !!"
   ]
  },
  {
   "cell_type": "code",
   "execution_count": 7,
   "metadata": {},
   "outputs": [
    {
     "name": "stdout",
     "output_type": "stream",
     "text": [
      "The number of training samples with class 0 after ROS : 1777\n",
      "The number of training samples with class 1 after ROS : 1777\n"
     ]
    }
   ],
   "source": [
    "ros = imb.over_sampling.RandomOverSampler(random_state=None)\n",
    "\n",
    "X_train_ROS, y_train_ROS = ros.fit_resample(X_train_processed, y_train)\n",
    "X_train_ROS, X_val_ROS, y_train_ROS, y_val_ROS = train_test_split(X_train_ROS, y_train_ROS, test_size=0.2)\n",
    "\n",
    "# One hot encoding\n",
    "train_labels_ROS = keras.utils.to_categorical(y_train_ROS,2)\n",
    "val_labels_ROS = keras.utils.to_categorical(y_val_ROS,2)\n",
    "\n",
    "print(\"The number of training samples with class 0 after ROS :\", np.sum(y_train_ROS==0)+np.sum(y_val_ROS==0))\n",
    "print(\"The number of training samples with class 1 after ROS :\", np.sum(y_train_ROS==1)+np.sum(y_val_ROS==1))"
   ]
  },
  {
   "cell_type": "markdown",
   "metadata": {},
   "source": [
    "### Modified SMOTE"
   ]
  },
  {
   "cell_type": "markdown",
   "metadata": {},
   "source": [
    "We randomly choose a subset of the minority class and we randomly create new samples. \n",
    "\n",
    "We use a modified version because SMOTE is not effective on high dimensional datasets."
   ]
  },
  {
   "cell_type": "code",
   "execution_count": 39,
   "metadata": {},
   "outputs": [],
   "source": [
    "# Modified SMOTE : MSMOTE\n"
   ]
  },
  {
   "cell_type": "markdown",
   "metadata": {},
   "source": [
    "## Machine Learning"
   ]
  },
  {
   "cell_type": "markdown",
   "metadata": {},
   "source": [
    "### Neural Network"
   ]
  },
  {
   "cell_type": "code",
   "execution_count": 8,
   "metadata": {},
   "outputs": [],
   "source": [
    "# Définir le callback EarlyStopping\n",
    "early_stopping = EarlyStopping(\n",
    "    monitor='val_loss',   # The quantity to be monitored\n",
    "    patience=20,           # Number of epochs with no improvement after which training will be stopped\n",
    "    restore_best_weights=True,  # restore the best model\n",
    "    mode='min',           # consider the quantity to be monitored as minimum\n",
    "    verbose=1             # a message will be printed\n",
    ")\n",
    "\n",
    "batch_size=50\n",
    "epochs=50\n",
    "lr=0.001"
   ]
  },
  {
   "cell_type": "markdown",
   "metadata": {},
   "source": [
    "#### Creating the Model for RUS\n",
    "\n",
    "The size of input layer is : $48*48$ \n",
    "\n",
    "The number of hidden layers is between 2 and 5: giving the number of samples. \n",
    "2 if under 10 000 samples."
   ]
  },
  {
   "cell_type": "code",
   "execution_count": 60,
   "metadata": {},
   "outputs": [
    {
     "name": "stdout",
     "output_type": "stream",
     "text": [
      "Epoch 1/150\n",
      "\u001b[1m45/45\u001b[0m \u001b[32m━━━━━━━━━━━━━━━━━━━━\u001b[0m\u001b[37m\u001b[0m \u001b[1m3s\u001b[0m 22ms/step - accuracy: 0.6141 - loss: 8.3978 - val_accuracy: 0.6984 - val_loss: 2.1835\n",
      "Epoch 2/150\n",
      "\u001b[1m45/45\u001b[0m \u001b[32m━━━━━━━━━━━━━━━━━━━━\u001b[0m\u001b[37m\u001b[0m \u001b[1m1s\u001b[0m 14ms/step - accuracy: 0.9221 - loss: 0.8363 - val_accuracy: 0.7307 - val_loss: 1.8069\n",
      "Epoch 3/150\n",
      "\u001b[1m45/45\u001b[0m \u001b[32m━━━━━━━━━━━━━━━━━━━━\u001b[0m\u001b[37m\u001b[0m \u001b[1m1s\u001b[0m 14ms/step - accuracy: 0.9714 - loss: 0.2814 - val_accuracy: 0.7469 - val_loss: 1.8934\n",
      "Epoch 4/150\n",
      "\u001b[1m45/45\u001b[0m \u001b[32m━━━━━━━━━━━━━━━━━━━━\u001b[0m\u001b[37m\u001b[0m \u001b[1m1s\u001b[0m 15ms/step - accuracy: 0.9955 - loss: 0.1125 - val_accuracy: 0.7720 - val_loss: 1.8781\n",
      "Epoch 5/150\n",
      "\u001b[1m45/45\u001b[0m \u001b[32m━━━━━━━━━━━━━━━━━━━━\u001b[0m\u001b[37m\u001b[0m \u001b[1m1s\u001b[0m 15ms/step - accuracy: 0.9942 - loss: 0.1371 - val_accuracy: 0.7594 - val_loss: 1.7567\n",
      "Epoch 6/150\n",
      "\u001b[1m45/45\u001b[0m \u001b[32m━━━━━━━━━━━━━━━━━━━━\u001b[0m\u001b[37m\u001b[0m \u001b[1m1s\u001b[0m 17ms/step - accuracy: 1.0000 - loss: 0.0356 - val_accuracy: 0.7487 - val_loss: 1.9132\n",
      "Epoch 7/150\n",
      "\u001b[1m45/45\u001b[0m \u001b[32m━━━━━━━━━━━━━━━━━━━━\u001b[0m\u001b[37m\u001b[0m \u001b[1m1s\u001b[0m 15ms/step - accuracy: 0.9846 - loss: 0.1606 - val_accuracy: 0.7415 - val_loss: 2.3080\n",
      "Epoch 8/150\n",
      "\u001b[1m45/45\u001b[0m \u001b[32m━━━━━━━━━━━━━━━━━━━━\u001b[0m\u001b[37m\u001b[0m \u001b[1m1s\u001b[0m 16ms/step - accuracy: 0.9913 - loss: 0.1270 - val_accuracy: 0.7594 - val_loss: 2.0781\n",
      "Epoch 9/150\n",
      "\u001b[1m45/45\u001b[0m \u001b[32m━━━━━━━━━━━━━━━━━━━━\u001b[0m\u001b[37m\u001b[0m \u001b[1m1s\u001b[0m 15ms/step - accuracy: 0.9978 - loss: 0.0568 - val_accuracy: 0.7343 - val_loss: 2.6909\n",
      "Epoch 10/150\n",
      "\u001b[1m45/45\u001b[0m \u001b[32m━━━━━━━━━━━━━━━━━━━━\u001b[0m\u001b[37m\u001b[0m \u001b[1m1s\u001b[0m 16ms/step - accuracy: 0.9958 - loss: 0.0698 - val_accuracy: 0.7558 - val_loss: 2.6863\n",
      "Epoch 11/150\n",
      "\u001b[1m45/45\u001b[0m \u001b[32m━━━━━━━━━━━━━━━━━━━━\u001b[0m\u001b[37m\u001b[0m \u001b[1m1s\u001b[0m 18ms/step - accuracy: 0.9987 - loss: 0.0535 - val_accuracy: 0.7522 - val_loss: 2.5214\n",
      "Epoch 12/150\n",
      "\u001b[1m45/45\u001b[0m \u001b[32m━━━━━━━━━━━━━━━━━━━━\u001b[0m\u001b[37m\u001b[0m \u001b[1m1s\u001b[0m 16ms/step - accuracy: 0.9991 - loss: 0.0354 - val_accuracy: 0.7469 - val_loss: 2.5047\n",
      "Epoch 13/150\n",
      "\u001b[1m45/45\u001b[0m \u001b[32m━━━━━━━━━━━━━━━━━━━━\u001b[0m\u001b[37m\u001b[0m \u001b[1m1s\u001b[0m 18ms/step - accuracy: 1.0000 - loss: 0.0135 - val_accuracy: 0.7451 - val_loss: 2.6124\n",
      "Epoch 14/150\n",
      "\u001b[1m45/45\u001b[0m \u001b[32m━━━━━━━━━━━━━━━━━━━━\u001b[0m\u001b[37m\u001b[0m \u001b[1m1s\u001b[0m 17ms/step - accuracy: 1.0000 - loss: 0.0107 - val_accuracy: 0.7504 - val_loss: 2.5985\n",
      "Epoch 15/150\n",
      "\u001b[1m45/45\u001b[0m \u001b[32m━━━━━━━━━━━━━━━━━━━━\u001b[0m\u001b[37m\u001b[0m \u001b[1m1s\u001b[0m 17ms/step - accuracy: 1.0000 - loss: 0.0082 - val_accuracy: 0.7487 - val_loss: 2.5931\n",
      "Epoch 16/150\n",
      "\u001b[1m45/45\u001b[0m \u001b[32m━━━━━━━━━━━━━━━━━━━━\u001b[0m\u001b[37m\u001b[0m \u001b[1m1s\u001b[0m 19ms/step - accuracy: 1.0000 - loss: 0.0071 - val_accuracy: 0.7504 - val_loss: 2.5920\n",
      "Epoch 17/150\n",
      "\u001b[1m45/45\u001b[0m \u001b[32m━━━━━━━━━━━━━━━━━━━━\u001b[0m\u001b[37m\u001b[0m \u001b[1m1s\u001b[0m 18ms/step - accuracy: 1.0000 - loss: 0.0062 - val_accuracy: 0.7487 - val_loss: 2.5939\n",
      "Epoch 18/150\n",
      "\u001b[1m45/45\u001b[0m \u001b[32m━━━━━━━━━━━━━━━━━━━━\u001b[0m\u001b[37m\u001b[0m \u001b[1m1s\u001b[0m 25ms/step - accuracy: 1.0000 - loss: 0.0059 - val_accuracy: 0.7433 - val_loss: 2.5993\n",
      "Epoch 19/150\n",
      "\u001b[1m45/45\u001b[0m \u001b[32m━━━━━━━━━━━━━━━━━━━━\u001b[0m\u001b[37m\u001b[0m \u001b[1m1s\u001b[0m 21ms/step - accuracy: 1.0000 - loss: 0.0054 - val_accuracy: 0.7451 - val_loss: 2.6076\n",
      "Epoch 20/150\n",
      "\u001b[1m45/45\u001b[0m \u001b[32m━━━━━━━━━━━━━━━━━━━━\u001b[0m\u001b[37m\u001b[0m \u001b[1m1s\u001b[0m 15ms/step - accuracy: 1.0000 - loss: 0.0042 - val_accuracy: 0.7451 - val_loss: 2.6177\n",
      "Epoch 21/150\n",
      "\u001b[1m45/45\u001b[0m \u001b[32m━━━━━━━━━━━━━━━━━━━━\u001b[0m\u001b[37m\u001b[0m \u001b[1m1s\u001b[0m 20ms/step - accuracy: 1.0000 - loss: 0.0040 - val_accuracy: 0.7469 - val_loss: 2.6278\n",
      "Epoch 22/150\n",
      "\u001b[1m45/45\u001b[0m \u001b[32m━━━━━━━━━━━━━━━━━━━━\u001b[0m\u001b[37m\u001b[0m \u001b[1m1s\u001b[0m 28ms/step - accuracy: 1.0000 - loss: 0.0033 - val_accuracy: 0.7469 - val_loss: 2.6382\n",
      "Epoch 23/150\n",
      "\u001b[1m45/45\u001b[0m \u001b[32m━━━━━━━━━━━━━━━━━━━━\u001b[0m\u001b[37m\u001b[0m \u001b[1m2s\u001b[0m 32ms/step - accuracy: 1.0000 - loss: 0.0031 - val_accuracy: 0.7487 - val_loss: 2.6493\n",
      "Epoch 24/150\n",
      "\u001b[1m45/45\u001b[0m \u001b[32m━━━━━━━━━━━━━━━━━━━━\u001b[0m\u001b[37m\u001b[0m \u001b[1m1s\u001b[0m 21ms/step - accuracy: 1.0000 - loss: 0.0026 - val_accuracy: 0.7469 - val_loss: 2.6621\n",
      "Epoch 25/150\n",
      "\u001b[1m45/45\u001b[0m \u001b[32m━━━━━━━━━━━━━━━━━━━━\u001b[0m\u001b[37m\u001b[0m \u001b[1m1s\u001b[0m 26ms/step - accuracy: 1.0000 - loss: 0.0021 - val_accuracy: 0.7487 - val_loss: 2.6751\n",
      "Epoch 26/150\n",
      "\u001b[1m45/45\u001b[0m \u001b[32m━━━━━━━━━━━━━━━━━━━━\u001b[0m\u001b[37m\u001b[0m \u001b[1m1s\u001b[0m 24ms/step - accuracy: 1.0000 - loss: 0.0017 - val_accuracy: 0.7487 - val_loss: 2.6886\n",
      "Epoch 27/150\n",
      "\u001b[1m45/45\u001b[0m \u001b[32m━━━━━━━━━━━━━━━━━━━━\u001b[0m\u001b[37m\u001b[0m \u001b[1m1s\u001b[0m 23ms/step - accuracy: 1.0000 - loss: 0.0017 - val_accuracy: 0.7504 - val_loss: 2.7029\n",
      "Epoch 28/150\n",
      "\u001b[1m45/45\u001b[0m \u001b[32m━━━━━━━━━━━━━━━━━━━━\u001b[0m\u001b[37m\u001b[0m \u001b[1m1s\u001b[0m 20ms/step - accuracy: 1.0000 - loss: 0.0014 - val_accuracy: 0.7504 - val_loss: 2.7162\n",
      "Epoch 29/150\n",
      "\u001b[1m45/45\u001b[0m \u001b[32m━━━━━━━━━━━━━━━━━━━━\u001b[0m\u001b[37m\u001b[0m \u001b[1m1s\u001b[0m 20ms/step - accuracy: 1.0000 - loss: 0.0012 - val_accuracy: 0.7487 - val_loss: 2.7295\n",
      "Epoch 30/150\n",
      "\u001b[1m45/45\u001b[0m \u001b[32m━━━━━━━━━━━━━━━━━━━━\u001b[0m\u001b[37m\u001b[0m \u001b[1m1s\u001b[0m 32ms/step - accuracy: 1.0000 - loss: 0.0011 - val_accuracy: 0.7469 - val_loss: 2.7434\n",
      "Epoch 31/150\n",
      "\u001b[1m45/45\u001b[0m \u001b[32m━━━━━━━━━━━━━━━━━━━━\u001b[0m\u001b[37m\u001b[0m \u001b[1m1s\u001b[0m 24ms/step - accuracy: 1.0000 - loss: 0.0011 - val_accuracy: 0.7469 - val_loss: 2.7559\n",
      "Epoch 32/150\n",
      "\u001b[1m45/45\u001b[0m \u001b[32m━━━━━━━━━━━━━━━━━━━━\u001b[0m\u001b[37m\u001b[0m \u001b[1m2s\u001b[0m 36ms/step - accuracy: 1.0000 - loss: 8.4232e-04 - val_accuracy: 0.7469 - val_loss: 2.7683\n",
      "Epoch 33/150\n",
      "\u001b[1m45/45\u001b[0m \u001b[32m━━━━━━━━━━━━━━━━━━━━\u001b[0m\u001b[37m\u001b[0m \u001b[1m2s\u001b[0m 34ms/step - accuracy: 1.0000 - loss: 7.5074e-04 - val_accuracy: 0.7451 - val_loss: 2.7804\n",
      "Epoch 34/150\n",
      "\u001b[1m45/45\u001b[0m \u001b[32m━━━━━━━━━━━━━━━━━━━━\u001b[0m\u001b[37m\u001b[0m \u001b[1m2s\u001b[0m 34ms/step - accuracy: 1.0000 - loss: 7.5262e-04 - val_accuracy: 0.7469 - val_loss: 2.7924\n",
      "Epoch 35/150\n",
      "\u001b[1m45/45\u001b[0m \u001b[32m━━━━━━━━━━━━━━━━━━━━\u001b[0m\u001b[37m\u001b[0m \u001b[1m2s\u001b[0m 40ms/step - accuracy: 1.0000 - loss: 6.6241e-04 - val_accuracy: 0.7487 - val_loss: 2.8050\n",
      "Epoch 36/150\n",
      "\u001b[1m45/45\u001b[0m \u001b[32m━━━━━━━━━━━━━━━━━━━━\u001b[0m\u001b[37m\u001b[0m \u001b[1m1s\u001b[0m 31ms/step - accuracy: 1.0000 - loss: 6.3944e-04 - val_accuracy: 0.7504 - val_loss: 2.8160\n",
      "Epoch 37/150\n",
      "\u001b[1m45/45\u001b[0m \u001b[32m━━━━━━━━━━━━━━━━━━━━\u001b[0m\u001b[37m\u001b[0m \u001b[1m1s\u001b[0m 31ms/step - accuracy: 1.0000 - loss: 6.3960e-04 - val_accuracy: 0.7504 - val_loss: 2.8284\n",
      "Epoch 38/150\n",
      "\u001b[1m45/45\u001b[0m \u001b[32m━━━━━━━━━━━━━━━━━━━━\u001b[0m\u001b[37m\u001b[0m \u001b[1m2s\u001b[0m 37ms/step - accuracy: 1.0000 - loss: 4.4732e-04 - val_accuracy: 0.7504 - val_loss: 2.8387\n",
      "Epoch 39/150\n",
      "\u001b[1m45/45\u001b[0m \u001b[32m━━━━━━━━━━━━━━━━━━━━\u001b[0m\u001b[37m\u001b[0m \u001b[1m1s\u001b[0m 24ms/step - accuracy: 1.0000 - loss: 4.2917e-04 - val_accuracy: 0.7504 - val_loss: 2.8502\n",
      "Epoch 40/150\n",
      "\u001b[1m45/45\u001b[0m \u001b[32m━━━━━━━━━━━━━━━━━━━━\u001b[0m\u001b[37m\u001b[0m \u001b[1m1s\u001b[0m 25ms/step - accuracy: 1.0000 - loss: 4.4480e-04 - val_accuracy: 0.7504 - val_loss: 2.8613\n",
      "Epoch 41/150\n",
      "\u001b[1m45/45\u001b[0m \u001b[32m━━━━━━━━━━━━━━━━━━━━\u001b[0m\u001b[37m\u001b[0m \u001b[1m1s\u001b[0m 22ms/step - accuracy: 1.0000 - loss: 3.9953e-04 - val_accuracy: 0.7504 - val_loss: 2.8709\n",
      "Epoch 42/150\n",
      "\u001b[1m45/45\u001b[0m \u001b[32m━━━━━━━━━━━━━━━━━━━━\u001b[0m\u001b[37m\u001b[0m \u001b[1m1s\u001b[0m 23ms/step - accuracy: 1.0000 - loss: 3.8072e-04 - val_accuracy: 0.7504 - val_loss: 2.8817\n",
      "Epoch 43/150\n",
      "\u001b[1m45/45\u001b[0m \u001b[32m━━━━━━━━━━━━━━━━━━━━\u001b[0m\u001b[37m\u001b[0m \u001b[1m1s\u001b[0m 19ms/step - accuracy: 1.0000 - loss: 3.6985e-04 - val_accuracy: 0.7522 - val_loss: 2.8912\n",
      "Epoch 44/150\n",
      "\u001b[1m45/45\u001b[0m \u001b[32m━━━━━━━━━━━━━━━━━━━━\u001b[0m\u001b[37m\u001b[0m \u001b[1m1s\u001b[0m 21ms/step - accuracy: 1.0000 - loss: 2.9570e-04 - val_accuracy: 0.7522 - val_loss: 2.9004\n",
      "Epoch 45/150\n",
      "\u001b[1m45/45\u001b[0m \u001b[32m━━━━━━━━━━━━━━━━━━━━\u001b[0m\u001b[37m\u001b[0m \u001b[1m1s\u001b[0m 23ms/step - accuracy: 1.0000 - loss: 2.2015e-04 - val_accuracy: 0.7522 - val_loss: 2.9093\n",
      "Epoch 46/150\n",
      "\u001b[1m45/45\u001b[0m \u001b[32m━━━━━━━━━━━━━━━━━━━━\u001b[0m\u001b[37m\u001b[0m \u001b[1m1s\u001b[0m 24ms/step - accuracy: 1.0000 - loss: 2.4042e-04 - val_accuracy: 0.7522 - val_loss: 2.9194\n",
      "Epoch 47/150\n",
      "\u001b[1m45/45\u001b[0m \u001b[32m━━━━━━━━━━━━━━━━━━━━\u001b[0m\u001b[37m\u001b[0m \u001b[1m1s\u001b[0m 18ms/step - accuracy: 1.0000 - loss: 2.1416e-04 - val_accuracy: 0.7522 - val_loss: 2.9279\n",
      "Epoch 48/150\n",
      "\u001b[1m45/45\u001b[0m \u001b[32m━━━━━━━━━━━━━━━━━━━━\u001b[0m\u001b[37m\u001b[0m \u001b[1m1s\u001b[0m 16ms/step - accuracy: 1.0000 - loss: 1.9431e-04 - val_accuracy: 0.7522 - val_loss: 2.9362\n",
      "Epoch 49/150\n",
      "\u001b[1m45/45\u001b[0m \u001b[32m━━━━━━━━━━━━━━━━━━━━\u001b[0m\u001b[37m\u001b[0m \u001b[1m1s\u001b[0m 22ms/step - accuracy: 1.0000 - loss: 2.0637e-04 - val_accuracy: 0.7522 - val_loss: 2.9457\n",
      "Epoch 50/150\n",
      "\u001b[1m45/45\u001b[0m \u001b[32m━━━━━━━━━━━━━━━━━━━━\u001b[0m\u001b[37m\u001b[0m \u001b[1m1s\u001b[0m 20ms/step - accuracy: 1.0000 - loss: 1.9395e-04 - val_accuracy: 0.7522 - val_loss: 2.9541\n",
      "Epoch 51/150\n",
      "\u001b[1m45/45\u001b[0m \u001b[32m━━━━━━━━━━━━━━━━━━━━\u001b[0m\u001b[37m\u001b[0m \u001b[1m1s\u001b[0m 18ms/step - accuracy: 1.0000 - loss: 1.8523e-04 - val_accuracy: 0.7522 - val_loss: 2.9627\n",
      "Epoch 52/150\n",
      "\u001b[1m45/45\u001b[0m \u001b[32m━━━━━━━━━━━━━━━━━━━━\u001b[0m\u001b[37m\u001b[0m \u001b[1m1s\u001b[0m 18ms/step - accuracy: 1.0000 - loss: 1.5705e-04 - val_accuracy: 0.7504 - val_loss: 2.9712\n",
      "Epoch 53/150\n",
      "\u001b[1m45/45\u001b[0m \u001b[32m━━━━━━━━━━━━━━━━━━━━\u001b[0m\u001b[37m\u001b[0m \u001b[1m1s\u001b[0m 21ms/step - accuracy: 1.0000 - loss: 1.6934e-04 - val_accuracy: 0.7487 - val_loss: 2.9801\n",
      "Epoch 54/150\n",
      "\u001b[1m45/45\u001b[0m \u001b[32m━━━━━━━━━━━━━━━━━━━━\u001b[0m\u001b[37m\u001b[0m \u001b[1m1s\u001b[0m 17ms/step - accuracy: 1.0000 - loss: 1.3542e-04 - val_accuracy: 0.7487 - val_loss: 2.9883\n",
      "Epoch 55/150\n",
      "\u001b[1m45/45\u001b[0m \u001b[32m━━━━━━━━━━━━━━━━━━━━\u001b[0m\u001b[37m\u001b[0m \u001b[1m1s\u001b[0m 17ms/step - accuracy: 1.0000 - loss: 1.2374e-04 - val_accuracy: 0.7487 - val_loss: 2.9971\n",
      "Epoch 55: early stopping\n",
      "Restoring model weights from the end of the best epoch: 5.\n"
     ]
    },
    {
     "data": {
      "image/png": "[encoded data removed]",
      "text/plain": [
       "<Figure size 640x480 with 1 Axes>"
      ]
     },
     "metadata": {},
     "output_type": "display_data"
    },
    {
     "data": {
      "image/png": "[encoded data removed]",
      "text/plain": [
       "<Figure size 640x480 with 1 Axes>"
      ]
     },
     "metadata": {},
     "output_type": "display_data"
    },
    {
     "data": {
      "text/plain": [
       "([<matplotlib.lines.Line2D at 0x7f94a2038b50>], None)"
      ]
     },
     "execution_count": 60,
     "metadata": {},
     "output_type": "execute_result"
    }
   ],
   "source": [
    "sgd = keras.optimizers.SGD(learning_rate = lr)\n",
    "model_RUS.compile(optimizer = sgd,\n",
    "              loss = 'binary_crossentropy',\n",
    "              metrics=['accuracy'])\n",
    "\n",
    "\n",
    "#MLP with early stopping\n",
    "history_RUS = model_RUS.fit(x = X_train_RUS,\n",
    "                    y=train_labels_RUS,\n",
    "                    epochs = epochs,\n",
    "                    batch_size=batch_size,\n",
    "                    validation_data = (X_val_RUS,val_labels_RUS),\n",
    "                    callbacks = [early_stopping],\n",
    "                    verbose = 1)\n",
    "\n",
    "\n",
    "####PLOT EVOLUTION\n",
    "plt.figure(1)\n",
    "plt.clf()\n",
    "plt.plot(history_RUS.history['loss'], label='train'),\n",
    "plt.plot(history_RUS.history['val_loss'], label='validation'), plt.show()\n",
    "plt.plot(history_RUS.history['accuracy'], label='train'),\n",
    "plt.plot(history_RUS.history['val_accuracy'], label='validation'), plt.show()\n",
    "\n"
   ]
  },
  {
   "cell_type": "markdown",
   "metadata": {},
   "source": [
    "#### Creating the Model for ROS"
   ]
  },
  {
   "cell_type": "code",
   "execution_count": 16,
   "metadata": {},
   "outputs": [
    {
     "data": {
      "text/html": [
       "<pre style=\"white-space:pre;overflow-x:auto;line-height:normal;font-family:Menlo,'DejaVu Sans Mono',consolas,'Courier New',monospace\"><span style=\"font-weight: bold\">Model: \"sequential_2\"</span>\n",
       "</pre>\n"
      ],
      "text/plain": [
       "\u001b[1mModel: \"sequential_2\"\u001b[0m\n"
      ]
     },
     "metadata": {},
     "output_type": "display_data"
    },
    {
     "data": {
      "text/html": [
       "<pre style=\"white-space:pre;overflow-x:auto;line-height:normal;font-family:Menlo,'DejaVu Sans Mono',consolas,'Courier New',monospace\">┏━━━━━━━━━━━━━━━━━━━━━━━━━━━━━━━━━┳━━━━━━━━━━━━━━━━━━━━━━━━┳━━━━━━━━━━━━━━━┓\n",
       "┃<span style=\"font-weight: bold\"> Layer (type)                    </span>┃<span style=\"font-weight: bold\"> Output Shape           </span>┃<span style=\"font-weight: bold\">       Param # </span>┃\n",
       "┡━━━━━━━━━━━━━━━━━━━━━━━━━━━━━━━━━╇━━━━━━━━━━━━━━━━━━━━━━━━╇━━━━━━━━━━━━━━━┩\n",
       "│ dense_10 (<span style=\"color: #0087ff; text-decoration-color: #0087ff\">Dense</span>)                │ (<span style=\"color: #00d7ff; text-decoration-color: #00d7ff\">None</span>, <span style=\"color: #00af00; text-decoration-color: #00af00\">1024</span>)           │     <span style=\"color: #00af00; text-decoration-color: #00af00\">2,360,320</span> │\n",
       "├─────────────────────────────────┼────────────────────────┼───────────────┤\n",
       "│ dense_11 (<span style=\"color: #0087ff; text-decoration-color: #0087ff\">Dense</span>)                │ (<span style=\"color: #00d7ff; text-decoration-color: #00d7ff\">None</span>, <span style=\"color: #00af00; text-decoration-color: #00af00\">512</span>)            │       <span style=\"color: #00af00; text-decoration-color: #00af00\">524,800</span> │\n",
       "├─────────────────────────────────┼────────────────────────┼───────────────┤\n",
       "│ dense_12 (<span style=\"color: #0087ff; text-decoration-color: #0087ff\">Dense</span>)                │ (<span style=\"color: #00d7ff; text-decoration-color: #00d7ff\">None</span>, <span style=\"color: #00af00; text-decoration-color: #00af00\">256</span>)            │       <span style=\"color: #00af00; text-decoration-color: #00af00\">131,328</span> │\n",
       "├─────────────────────────────────┼────────────────────────┼───────────────┤\n",
       "│ dense_13 (<span style=\"color: #0087ff; text-decoration-color: #0087ff\">Dense</span>)                │ (<span style=\"color: #00d7ff; text-decoration-color: #00d7ff\">None</span>, <span style=\"color: #00af00; text-decoration-color: #00af00\">128</span>)            │        <span style=\"color: #00af00; text-decoration-color: #00af00\">32,896</span> │\n",
       "├─────────────────────────────────┼────────────────────────┼───────────────┤\n",
       "│ dense_14 (<span style=\"color: #0087ff; text-decoration-color: #0087ff\">Dense</span>)                │ (<span style=\"color: #00d7ff; text-decoration-color: #00d7ff\">None</span>, <span style=\"color: #00af00; text-decoration-color: #00af00\">64</span>)             │         <span style=\"color: #00af00; text-decoration-color: #00af00\">8,256</span> │\n",
       "├─────────────────────────────────┼────────────────────────┼───────────────┤\n",
       "│ dense_15 (<span style=\"color: #0087ff; text-decoration-color: #0087ff\">Dense</span>)                │ (<span style=\"color: #00d7ff; text-decoration-color: #00d7ff\">None</span>, <span style=\"color: #00af00; text-decoration-color: #00af00\">2</span>)              │           <span style=\"color: #00af00; text-decoration-color: #00af00\">130</span> │\n",
       "└─────────────────────────────────┴────────────────────────┴───────────────┘\n",
       "</pre>\n"
      ],
      "text/plain": [
       "┏━━━━━━━━━━━━━━━━━━━━━━━━━━━━━━━━━┳━━━━━━━━━━━━━━━━━━━━━━━━┳━━━━━━━━━━━━━━━┓\n",
       "┃\u001b[1m \u001b[0m\u001b[1mLayer (type)                   \u001b[0m\u001b[1m \u001b[0m┃\u001b[1m \u001b[0m\u001b[1mOutput Shape          \u001b[0m\u001b[1m \u001b[0m┃\u001b[1m \u001b[0m\u001b[1m      Param #\u001b[0m\u001b[1m \u001b[0m┃\n",
       "┡━━━━━━━━━━━━━━━━━━━━━━━━━━━━━━━━━╇━━━━━━━━━━━━━━━━━━━━━━━━╇━━━━━━━━━━━━━━━┩\n",
       "│ dense_10 (\u001b[38;5;33mDense\u001b[0m)                │ (\u001b[38;5;45mNone\u001b[0m, \u001b[38;5;34m1024\u001b[0m)           │     \u001b[38;5;34m2,360,320\u001b[0m │\n",
       "├─────────────────────────────────┼────────────────────────┼───────────────┤\n",
       "│ dense_11 (\u001b[38;5;33mDense\u001b[0m)                │ (\u001b[38;5;45mNone\u001b[0m, \u001b[38;5;34m512\u001b[0m)            │       \u001b[38;5;34m524,800\u001b[0m │\n",
       "├─────────────────────────────────┼────────────────────────┼───────────────┤\n",
       "│ dense_12 (\u001b[38;5;33mDense\u001b[0m)                │ (\u001b[38;5;45mNone\u001b[0m, \u001b[38;5;34m256\u001b[0m)            │       \u001b[38;5;34m131,328\u001b[0m │\n",
       "├─────────────────────────────────┼────────────────────────┼───────────────┤\n",
       "│ dense_13 (\u001b[38;5;33mDense\u001b[0m)                │ (\u001b[38;5;45mNone\u001b[0m, \u001b[38;5;34m128\u001b[0m)            │        \u001b[38;5;34m32,896\u001b[0m │\n",
       "├─────────────────────────────────┼────────────────────────┼───────────────┤\n",
       "│ dense_14 (\u001b[38;5;33mDense\u001b[0m)                │ (\u001b[38;5;45mNone\u001b[0m, \u001b[38;5;34m64\u001b[0m)             │         \u001b[38;5;34m8,256\u001b[0m │\n",
       "├─────────────────────────────────┼────────────────────────┼───────────────┤\n",
       "│ dense_15 (\u001b[38;5;33mDense\u001b[0m)                │ (\u001b[38;5;45mNone\u001b[0m, \u001b[38;5;34m2\u001b[0m)              │           \u001b[38;5;34m130\u001b[0m │\n",
       "└─────────────────────────────────┴────────────────────────┴───────────────┘\n"
      ]
     },
     "metadata": {},
     "output_type": "display_data"
    },
    {
     "data": {
      "text/html": [
       "<pre style=\"white-space:pre;overflow-x:auto;line-height:normal;font-family:Menlo,'DejaVu Sans Mono',consolas,'Courier New',monospace\"><span style=\"font-weight: bold\"> Total params: </span><span style=\"color: #00af00; text-decoration-color: #00af00\">3,057,730</span> (11.66 MB)\n",
       "</pre>\n"
      ],
      "text/plain": [
       "\u001b[1m Total params: \u001b[0m\u001b[38;5;34m3,057,730\u001b[0m (11.66 MB)\n"
      ]
     },
     "metadata": {},
     "output_type": "display_data"
    },
    {
     "data": {
      "text/html": [
       "<pre style=\"white-space:pre;overflow-x:auto;line-height:normal;font-family:Menlo,'DejaVu Sans Mono',consolas,'Courier New',monospace\"><span style=\"font-weight: bold\"> Trainable params: </span><span style=\"color: #00af00; text-decoration-color: #00af00\">3,057,730</span> (11.66 MB)\n",
       "</pre>\n"
      ],
      "text/plain": [
       "\u001b[1m Trainable params: \u001b[0m\u001b[38;5;34m3,057,730\u001b[0m (11.66 MB)\n"
      ]
     },
     "metadata": {},
     "output_type": "display_data"
    },
    {
     "data": {
      "text/html": [
       "<pre style=\"white-space:pre;overflow-x:auto;line-height:normal;font-family:Menlo,'DejaVu Sans Mono',consolas,'Courier New',monospace\"><span style=\"font-weight: bold\"> Non-trainable params: </span><span style=\"color: #00af00; text-decoration-color: #00af00\">0</span> (0.00 B)\n",
       "</pre>\n"
      ],
      "text/plain": [
       "\u001b[1m Non-trainable params: \u001b[0m\u001b[38;5;34m0\u001b[0m (0.00 B)\n"
      ]
     },
     "metadata": {},
     "output_type": "display_data"
    },
    {
     "name": "stdout",
     "output_type": "stream",
     "text": [
      "Epoch 1/50\n",
      "\u001b[1m57/57\u001b[0m \u001b[32m━━━━━━━━━━━━━━━━━━━━\u001b[0m\u001b[37m\u001b[0m \u001b[1m3s\u001b[0m 27ms/step - accuracy: 0.5750 - loss: 3.0588 - val_accuracy: 0.6160 - val_loss: 1.5444\n",
      "Epoch 2/50\n",
      "\u001b[1m57/57\u001b[0m \u001b[32m━━━━━━━━━━━━━━━━━━━━\u001b[0m\u001b[37m\u001b[0m \u001b[1m1s\u001b[0m 25ms/step - accuracy: 0.8122 - loss: 0.5852 - val_accuracy: 0.6934 - val_loss: 1.0968\n",
      "Epoch 3/50\n",
      "\u001b[1m57/57\u001b[0m \u001b[32m━━━━━━━━━━━━━━━━━━━━\u001b[0m\u001b[37m\u001b[0m \u001b[1m2s\u001b[0m 29ms/step - accuracy: 0.9159 - loss: 0.2728 - val_accuracy: 0.7314 - val_loss: 1.0654\n",
      "Epoch 4/50\n",
      "\u001b[1m57/57\u001b[0m \u001b[32m━━━━━━━━━━━━━━━━━━━━\u001b[0m\u001b[37m\u001b[0m \u001b[1m1s\u001b[0m 24ms/step - accuracy: 0.9592 - loss: 0.1739 - val_accuracy: 0.7468 - val_loss: 1.0763\n",
      "Epoch 5/50\n",
      "\u001b[1m57/57\u001b[0m \u001b[32m━━━━━━━━━━━━━━━━━━━━\u001b[0m\u001b[37m\u001b[0m \u001b[1m1s\u001b[0m 24ms/step - accuracy: 0.9838 - loss: 0.1427 - val_accuracy: 0.7581 - val_loss: 1.0771\n",
      "Epoch 6/50\n",
      "\u001b[1m57/57\u001b[0m \u001b[32m━━━━━━━━━━━━━━━━━━━━\u001b[0m\u001b[37m\u001b[0m \u001b[1m1s\u001b[0m 25ms/step - accuracy: 0.9869 - loss: 0.1223 - val_accuracy: 0.7595 - val_loss: 1.0680\n",
      "Epoch 7/50\n",
      "\u001b[1m57/57\u001b[0m \u001b[32m━━━━━━━━━━━━━━━━━━━━\u001b[0m\u001b[37m\u001b[0m \u001b[1m2s\u001b[0m 28ms/step - accuracy: 0.9901 - loss: 0.1072 - val_accuracy: 0.7581 - val_loss: 1.1008\n",
      "Epoch 8/50\n",
      "\u001b[1m57/57\u001b[0m \u001b[32m━━━━━━━━━━━━━━━━━━━━\u001b[0m\u001b[37m\u001b[0m \u001b[1m2s\u001b[0m 27ms/step - accuracy: 0.9924 - loss: 0.0904 - val_accuracy: 0.7609 - val_loss: 1.0933\n",
      "Epoch 9/50\n",
      "\u001b[1m57/57\u001b[0m \u001b[32m━━━━━━━━━━━━━━━━━━━━\u001b[0m\u001b[37m\u001b[0m \u001b[1m2s\u001b[0m 26ms/step - accuracy: 0.9951 - loss: 0.0909 - val_accuracy: 0.7567 - val_loss: 1.1195\n",
      "Epoch 10/50\n",
      "\u001b[1m57/57\u001b[0m \u001b[32m━━━━━━━━━━━━━━━━━━━━\u001b[0m\u001b[37m\u001b[0m \u001b[1m2s\u001b[0m 33ms/step - accuracy: 0.9980 - loss: 0.0804 - val_accuracy: 0.7567 - val_loss: 1.1248\n",
      "Epoch 11/50\n",
      "\u001b[1m57/57\u001b[0m \u001b[32m━━━━━━━━━━━━━━━━━━━━\u001b[0m\u001b[37m\u001b[0m \u001b[1m2s\u001b[0m 39ms/step - accuracy: 0.9981 - loss: 0.0769 - val_accuracy: 0.7567 - val_loss: 1.1496\n",
      "Epoch 12/50\n",
      "\u001b[1m57/57\u001b[0m \u001b[32m━━━━━━━━━━━━━━━━━━━━\u001b[0m\u001b[37m\u001b[0m \u001b[1m3s\u001b[0m 45ms/step - accuracy: 0.9981 - loss: 0.0675 - val_accuracy: 0.7581 - val_loss: 1.1489\n",
      "Epoch 13/50\n",
      "\u001b[1m57/57\u001b[0m \u001b[32m━━━━━━━━━━━━━━━━━━━━\u001b[0m\u001b[37m\u001b[0m \u001b[1m2s\u001b[0m 36ms/step - accuracy: 0.9984 - loss: 0.0697 - val_accuracy: 0.7567 - val_loss: 1.1656\n",
      "Epoch 14/50\n",
      "\u001b[1m57/57\u001b[0m \u001b[32m━━━━━━━━━━━━━━━━━━━━\u001b[0m\u001b[37m\u001b[0m \u001b[1m2s\u001b[0m 36ms/step - accuracy: 0.9984 - loss: 0.0702 - val_accuracy: 0.7525 - val_loss: 1.1926\n",
      "Epoch 15/50\n",
      "\u001b[1m57/57\u001b[0m \u001b[32m━━━━━━━━━━━━━━━━━━━━\u001b[0m\u001b[37m\u001b[0m \u001b[1m2s\u001b[0m 40ms/step - accuracy: 0.9990 - loss: 0.0669 - val_accuracy: 0.7581 - val_loss: 1.1609\n",
      "Epoch 16/50\n",
      "\u001b[1m57/57\u001b[0m \u001b[32m━━━━━━━━━━━━━━━━━━━━\u001b[0m\u001b[37m\u001b[0m \u001b[1m2s\u001b[0m 37ms/step - accuracy: 0.9996 - loss: 0.0595 - val_accuracy: 0.7539 - val_loss: 1.1862\n",
      "Epoch 17/50\n",
      "\u001b[1m57/57\u001b[0m \u001b[32m━━━━━━━━━━━━━━━━━━━━\u001b[0m\u001b[37m\u001b[0m \u001b[1m2s\u001b[0m 38ms/step - accuracy: 0.9997 - loss: 0.0597 - val_accuracy: 0.7539 - val_loss: 1.2121\n",
      "Epoch 18/50\n",
      "\u001b[1m57/57\u001b[0m \u001b[32m━━━━━━━━━━━━━━━━━━━━\u001b[0m\u001b[37m\u001b[0m \u001b[1m3s\u001b[0m 44ms/step - accuracy: 0.9990 - loss: 0.0600 - val_accuracy: 0.7525 - val_loss: 1.1986\n",
      "Epoch 19/50\n",
      "\u001b[1m57/57\u001b[0m \u001b[32m━━━━━━━━━━━━━━━━━━━━\u001b[0m\u001b[37m\u001b[0m \u001b[1m2s\u001b[0m 39ms/step - accuracy: 0.9979 - loss: 0.0534 - val_accuracy: 0.7553 - val_loss: 1.2306\n",
      "Epoch 20/50\n",
      "\u001b[1m57/57\u001b[0m \u001b[32m━━━━━━━━━━━━━━━━━━━━\u001b[0m\u001b[37m\u001b[0m \u001b[1m2s\u001b[0m 40ms/step - accuracy: 0.9992 - loss: 0.0504 - val_accuracy: 0.7553 - val_loss: 1.2231\n",
      "Epoch 20: early stopping\n",
      "Restoring model weights from the end of the best epoch: 1.\n"
     ]
    },
    {
     "data": {
      "image/png": "[encoded data removed]",
      "text/plain": [
       "<Figure size 640x480 with 1 Axes>"
      ]
     },
     "metadata": {},
     "output_type": "display_data"
    },
    {
     "data": {
      "text/plain": [
       "([<matplotlib.lines.Line2D at 0x7f9627aa9550>], None)"
      ]
     },
     "execution_count": 16,
     "metadata": {},
     "output_type": "execute_result"
    }
   ],
   "source": [
    "# Neural network\n",
    "model_ROS = Sequential()\n",
    "\n",
    "#0.95 with  256 -> 128 -> 64 -> 2\n",
    "#0.88 with 128 -> 64 -> 32 -> 2\n",
    "#0.81 with 128 -> 64 -> 32 -> 16 -> 2\n",
    "#0.86 with 256 -> 128 -> 64 -> 32 -> 2\n",
    "\n",
    "\n",
    "# Input layer\n",
    "model_ROS.add(Dense(1024, input_shape=(48*48,), activation='relu')) \n",
    "model_ROS.add(Dense(512, activation='relu'))\n",
    "model_ROS.add(Dense((256), activation='relu'))\n",
    "model_ROS.add(Dense((128), activation='relu'))\n",
    "model_ROS.add(Dense((64), activation='relu')) \n",
    "model_ROS.add(Dense(2, activation='sigmoid'))\n",
    "model_ROS.summary()\n",
    "\n",
    "sgd = keras.optimizers.SGD(learning_rate = lr)\n",
    "model_ROS.compile(optimizer = sgd,\n",
    "              loss = 'binary_crossentropy',\n",
    "              metrics=['accuracy'])\n",
    "\n",
    "\n",
    "#MLP with early stopping\n",
    "history = model_ROS.fit(x = X_train_ROS,\n",
    "                    y=train_labels_ROS,\n",
    "                    epochs = epochs,\n",
    "                    batch_size=batch_size,\n",
    "                    validation_data = (X_val_ROS,val_labels_ROS),\n",
    "                    callbacks = [early_stopping],\n",
    "                    verbose = 1)\n",
    "\n",
    "\n",
    "####PLOT EVOLUTION\n",
    "plt.figure(1)\n",
    "plt.clf()\n",
    "plt.plot(history.history['loss'], label='train'),\n",
    "plt.plot(history.history['val_loss'], label='train'), plt.show()\n"
   ]
  },
  {
   "cell_type": "markdown",
   "metadata": {},
   "source": [
    "#### Predictions on X_extra"
   ]
  },
  {
   "cell_type": "markdown",
   "metadata": {},
   "source": [
    "We can use X_extra and do prediction on it and then combine X_train and X_extra"
   ]
  },
  {
   "cell_type": "code",
   "execution_count": 12,
   "metadata": {},
   "outputs": [
    {
     "name": "stdout",
     "output_type": "stream",
     "text": [
      "\u001b[1m29/29\u001b[0m \u001b[32m━━━━━━━━━━━━━━━━━━━━\u001b[0m\u001b[37m\u001b[0m \u001b[1m0s\u001b[0m 8ms/step\n",
      "The number of extra samples with class 0 : 175\n",
      "The number of extra samples with class 1 : 729\n"
     ]
    }
   ],
   "source": [
    "# Predictions\n",
    "y_pred = model_ROS.predict(X_extra_processed)\n",
    "# indexes of class 0 with probability > 0.8 \n",
    "indexes = np.where(y_pred[:,0]>0.8)\n",
    "\n",
    "# From indexes\n",
    "y_pred_0 = y_pred[indexes]\n",
    "y_pred_0 = np.argmax(y_pred_0, axis=1)\n",
    "\n",
    "print(\"The number of extra samples with class 0 :\", len(indexes[0]))\n",
    "print(\"The number of extra samples with class 1 :\", len(y_pred)-len(indexes[0]))"
   ]
  },
  {
   "cell_type": "markdown",
   "metadata": {},
   "source": [
    "#### Adding X_extra to set for training"
   ]
  },
  {
   "cell_type": "code",
   "execution_count": 13,
   "metadata": {},
   "outputs": [
    {
     "name": "stdout",
     "output_type": "stream",
     "text": [
      "(175,)\n",
      "(2226,)\n",
      "The number of training samples with class 0 after adding extra samples : 947\n",
      "The number of training samples with class 1 after adding extra samples : 1454\n"
     ]
    }
   ],
   "source": [
    "\n",
    "X_train_combined, X_val_combined, y_train_combined, y_val_combined = train_test_split(X_train, y_train, test_size=0.2)\n",
    "train_labels_combined = keras.utils.to_categorical(y_train_combined,2)\n",
    "val_labels_combined = keras.utils.to_categorical(y_val_combined,2)\n",
    "\n",
    "# Adding the extra samples to the training set for class 0\n",
    "print(y_pred_0.shape)\n",
    "print(y_train_combined.shape)\n",
    "X_train_combined = np.concatenate((X_train_combined,X_extra_processed[indexes]),axis=0)\n",
    "y_train_combined = np.concatenate((y_train_combined,y_pred_0),axis=0)\n",
    "\n",
    "\n",
    "# ROS\n",
    "ros = imb.over_sampling.RandomOverSampler(random_state=None)\n",
    "X_train_ROS_combined, y_train_ROS_combined = ros.fit_resample(X_train_combined, y_train_combined)\n",
    "train_labels_ROS_combined = keras.utils.to_categorical(y_train_ROS_combined,2)\n",
    "\n",
    "print(\"The number of training samples with class 0 after adding extra samples :\", np.sum(y_train_combined==0))\n",
    "print(\"The number of training samples with class 1 after adding extra samples :\", np.sum(y_train_combined==1))"
   ]
  },
  {
   "cell_type": "markdown",
   "metadata": {},
   "source": [
    "#### Training with X_extra"
   ]
  },
  {
   "cell_type": "code",
   "execution_count": 15,
   "metadata": {},
   "outputs": [
    {
     "name": "stdout",
     "output_type": "stream",
     "text": [
      "Epoch 1/50\n",
      "\u001b[1m59/59\u001b[0m \u001b[32m━━━━━━━━━━━━━━━━━━━━\u001b[0m\u001b[37m\u001b[0m \u001b[1m2s\u001b[0m 31ms/step - accuracy: 0.5300 - loss: 125.5091 - val_accuracy: 0.5817 - val_loss: 0.7293\n",
      "Epoch 2/50\n",
      "\u001b[1m59/59\u001b[0m \u001b[32m━━━━━━━━━━━━━━━━━━━━\u001b[0m\u001b[37m\u001b[0m \u001b[1m2s\u001b[0m 39ms/step - accuracy: 0.6355 - loss: 0.6832 - val_accuracy: 0.6409 - val_loss: 0.6725\n",
      "Epoch 3/50\n",
      "\u001b[1m59/59\u001b[0m \u001b[32m━━━━━━━━━━━━━━━━━━━━\u001b[0m\u001b[37m\u001b[0m \u001b[1m2s\u001b[0m 33ms/step - accuracy: 0.6667 - loss: 0.6247 - val_accuracy: 0.6086 - val_loss: 0.6868\n",
      "Epoch 4/50\n",
      "\u001b[1m59/59\u001b[0m \u001b[32m━━━━━━━━━━━━━━━━━━━━\u001b[0m\u001b[37m\u001b[0m \u001b[1m2s\u001b[0m 40ms/step - accuracy: 0.6474 - loss: 0.5967 - val_accuracy: 0.4506 - val_loss: 0.7864\n",
      "Epoch 5/50\n",
      "\u001b[1m59/59\u001b[0m \u001b[32m━━━━━━━━━━━━━━━━━━━━\u001b[0m\u001b[37m\u001b[0m \u001b[1m3s\u001b[0m 55ms/step - accuracy: 0.6617 - loss: 0.5931 - val_accuracy: 0.5745 - val_loss: 0.6887\n",
      "Epoch 6/50\n",
      "\u001b[1m59/59\u001b[0m \u001b[32m━━━━━━━━━━━━━━━━━━━━\u001b[0m\u001b[37m\u001b[0m \u001b[1m3s\u001b[0m 42ms/step - accuracy: 0.6794 - loss: 0.5869 - val_accuracy: 0.5655 - val_loss: 0.7106\n",
      "Epoch 7/50\n",
      "\u001b[1m59/59\u001b[0m \u001b[32m━━━━━━━━━━━━━━━━━━━━\u001b[0m\u001b[37m\u001b[0m \u001b[1m2s\u001b[0m 35ms/step - accuracy: 0.6707 - loss: 0.5831 - val_accuracy: 0.6194 - val_loss: 0.6865\n",
      "Epoch 8/50\n",
      "\u001b[1m59/59\u001b[0m \u001b[32m━━━━━━━━━━━━━━━━━━━━\u001b[0m\u001b[37m\u001b[0m \u001b[1m2s\u001b[0m 36ms/step - accuracy: 0.6762 - loss: 0.5784 - val_accuracy: 0.6104 - val_loss: 0.6902\n",
      "Epoch 9/50\n",
      "\u001b[1m59/59\u001b[0m \u001b[32m━━━━━━━━━━━━━━━━━━━━\u001b[0m\u001b[37m\u001b[0m \u001b[1m2s\u001b[0m 33ms/step - accuracy: 0.6681 - loss: 0.5948 - val_accuracy: 0.5440 - val_loss: 0.7349\n",
      "Epoch 10/50\n",
      "\u001b[1m59/59\u001b[0m \u001b[32m━━━━━━━━━━━━━━━━━━━━\u001b[0m\u001b[37m\u001b[0m \u001b[1m2s\u001b[0m 32ms/step - accuracy: 0.6917 - loss: 0.5666 - val_accuracy: 0.6445 - val_loss: 0.9788\n",
      "Epoch 11/50\n",
      "\u001b[1m59/59\u001b[0m \u001b[32m━━━━━━━━━━━━━━━━━━━━\u001b[0m\u001b[37m\u001b[0m \u001b[1m2s\u001b[0m 35ms/step - accuracy: 0.7001 - loss: 0.5808 - val_accuracy: 0.5925 - val_loss: 0.7910\n",
      "Epoch 12/50\n",
      "\u001b[1m59/59\u001b[0m \u001b[32m━━━━━━━━━━━━━━━━━━━━\u001b[0m\u001b[37m\u001b[0m \u001b[1m2s\u001b[0m 33ms/step - accuracy: 0.6637 - loss: 0.5941 - val_accuracy: 0.6553 - val_loss: 0.6893\n",
      "Epoch 13/50\n",
      "\u001b[1m59/59\u001b[0m \u001b[32m━━━━━━━━━━━━━━━━━━━━\u001b[0m\u001b[37m\u001b[0m \u001b[1m2s\u001b[0m 34ms/step - accuracy: 0.7017 - loss: 0.5439 - val_accuracy: 0.5907 - val_loss: 0.6981\n",
      "Epoch 14/50\n",
      "\u001b[1m59/59\u001b[0m \u001b[32m━━━━━━━━━━━━━━━━━━━━\u001b[0m\u001b[37m\u001b[0m \u001b[1m2s\u001b[0m 33ms/step - accuracy: 0.6434 - loss: 0.5951 - val_accuracy: 0.6445 - val_loss: 0.8388\n",
      "Epoch 15/50\n",
      "\u001b[1m59/59\u001b[0m \u001b[32m━━━━━━━━━━━━━━━━━━━━\u001b[0m\u001b[37m\u001b[0m \u001b[1m2s\u001b[0m 32ms/step - accuracy: 0.6577 - loss: 0.5966 - val_accuracy: 0.6391 - val_loss: 0.7965\n",
      "Epoch 16/50\n",
      "\u001b[1m59/59\u001b[0m \u001b[32m━━━━━━━━━━━━━━━━━━━━\u001b[0m\u001b[37m\u001b[0m \u001b[1m2s\u001b[0m 34ms/step - accuracy: 0.7000 - loss: 0.5629 - val_accuracy: 0.6445 - val_loss: 0.6952\n",
      "Epoch 17/50\n",
      "\u001b[1m59/59\u001b[0m \u001b[32m━━━━━━━━━━━━━━━━━━━━\u001b[0m\u001b[37m\u001b[0m \u001b[1m2s\u001b[0m 32ms/step - accuracy: 0.7325 - loss: 0.5280 - val_accuracy: 0.5494 - val_loss: 0.8430\n",
      "Epoch 18/50\n",
      "\u001b[1m59/59\u001b[0m \u001b[32m━━━━━━━━━━━━━━━━━━━━\u001b[0m\u001b[37m\u001b[0m \u001b[1m2s\u001b[0m 32ms/step - accuracy: 0.6682 - loss: 0.5990 - val_accuracy: 0.6445 - val_loss: 0.8099\n",
      "Epoch 19/50\n",
      "\u001b[1m59/59\u001b[0m \u001b[32m━━━━━━━━━━━━━━━━━━━━\u001b[0m\u001b[37m\u001b[0m \u001b[1m2s\u001b[0m 33ms/step - accuracy: 0.6692 - loss: 0.5715 - val_accuracy: 0.4758 - val_loss: 0.9133\n",
      "Epoch 20/50\n",
      "\u001b[1m59/59\u001b[0m \u001b[32m━━━━━━━━━━━━━━━━━━━━\u001b[0m\u001b[37m\u001b[0m \u001b[1m2s\u001b[0m 31ms/step - accuracy: 0.7219 - loss: 0.5261 - val_accuracy: 0.6445 - val_loss: 0.8074\n",
      "Epoch 21/50\n",
      "\u001b[1m59/59\u001b[0m \u001b[32m━━━━━━━━━━━━━━━━━━━━\u001b[0m\u001b[37m\u001b[0m \u001b[1m3s\u001b[0m 49ms/step - accuracy: 0.6974 - loss: 0.5603 - val_accuracy: 0.4255 - val_loss: 1.0785\n",
      "Epoch 22/50\n",
      "\u001b[1m59/59\u001b[0m \u001b[32m━━━━━━━━━━━━━━━━━━━━\u001b[0m\u001b[37m\u001b[0m \u001b[1m3s\u001b[0m 48ms/step - accuracy: 0.6740 - loss: 0.5920 - val_accuracy: 0.6517 - val_loss: 0.6975\n",
      "Epoch 22: early stopping\n",
      "Restoring model weights from the end of the best epoch: 2.\n"
     ]
    },
    {
     "data": {
      "image/png": "[encoded data removed]",
      "text/plain": [
       "<Figure size 640x480 with 1 Axes>"
      ]
     },
     "metadata": {},
     "output_type": "display_data"
    },
    {
     "data": {
      "image/png": "[encoded data removed]",
      "text/plain": [
       "<Figure size 640x480 with 1 Axes>"
      ]
     },
     "metadata": {},
     "output_type": "display_data"
    },
    {
     "data": {
      "text/plain": [
       "(<matplotlib.legend.Legend at 0x7f9627ace910>, None)"
      ]
     },
     "execution_count": 15,
     "metadata": {},
     "output_type": "execute_result"
    }
   ],
   "source": [
    "sgd = keras.optimizers.SGD(learning_rate = lr)\n",
    "model_ROS.compile(optimizer = sgd,\n",
    "              loss = 'binary_crossentropy',\n",
    "              metrics=['accuracy'])\n",
    "\n",
    "#MLP without early stopping\n",
    "history = model_ROS.fit(x = X_train_ROS_combined,\n",
    "                    y=train_labels_ROS_combined,\n",
    "                    epochs = epochs,\n",
    "                    batch_size=batch_size,\n",
    "                    validation_data = (X_val_combined,val_labels_combined),\n",
    "                    callbacks = [early_stopping],\n",
    "                    verbose = 1)\n",
    "\n",
    "####PLOT EVOLUTION\n",
    "plt.figure(1)\n",
    "plt.clf()\n",
    "plt.plot(history.history['loss'], label='train'),\n",
    "plt.plot(history.history['val_loss'], label='val'), \n",
    "plt.legend(),plt.show()\n",
    "plt.plot(history.history['accuracy'], label='train'),\n",
    "plt.plot(history.history['val_accuracy'], label='val'),\n",
    "plt.legend(),plt.show()\n"
   ]
  },
  {
   "cell_type": "markdown",
   "metadata": {},
   "source": [
    "#### K-fold"
   ]
  },
  {
   "cell_type": "code",
   "execution_count": null,
   "metadata": {},
   "outputs": [],
   "source": [
    "\n",
    "# Cross validation with keras and scikit-learn f1 score on validation set\n",
    "from sklearn.model_selection import StratifiedKFold\n",
    "\n",
    "# Define the K-fold Cross Validator\n",
    "kfold = StratifiedKFold(n_splits=10, shuffle=True)\n",
    "\n",
    "# K-fold Cross Validation model evaluation\n",
    "fold_no = 1\n",
    "f1 = []\n",
    "print(X_train_ROS_combined.shape)\n",
    "print(y_train_ROS_combined.shape)\n",
    "for train, test in kfold.split(X_train_ROS_combined, y_train_ROS_combined):\n",
    "  # Validation set\n",
    "\n",
    "  model = Sequential()\n",
    "  model.add(Dense(256, input_shape=(48*48,), activation='relu')) \n",
    "  model.add(Dense(128, activation='relu'))\n",
    "  model.add(Dense((64), activation='relu'))\n",
    "  model.add(Dense(2, activation='sigmoid'))\n",
    "\n",
    "  adam = keras.optimizers.Adam(learning_rate = lr)\n",
    "  model.compile(optimizer = adam,\n",
    "                loss = ['binary_crossentropy'],\n",
    "                metrics=['accuracy'])\n",
    "\n",
    "  # Fit data to model\n",
    "  history = model.fit(X_train_ROS_combined[train], train_labels_ROS_combined[train],\n",
    "                      batch_size=batch_size,\n",
    "                      epochs=epochs,\n",
    "                      verbose=1,\n",
    "                      validation_data=(X_train_ROS_combined[test], train_labels_ROS_combined[test]),\n",
    "                      callbacks = [early_stopping]\n",
    "                      )\n",
    "\n",
    "  # Generate generalization metrics on validation set\n",
    "  scores = model.evaluate(X_train_ROS_combined[test], train_labels_ROS_combined[test], verbose=0)\n",
    "  print(f'Score for fold {fold_no}: {model.metrics_names[0]} of {scores[0]}; {model.metrics_names[1]} of {scores[1]*100}%')\n",
    "  f1.append(f1_score(np.argmax(train_labels_ROS_combined[test],axis=1),np.argmax(model.predict(X_train_ROS_combined[test]),axis=1)))\n",
    "  fold_no += 1\n",
    "\n"
   ]
  },
  {
   "cell_type": "code",
   "execution_count": 98,
   "metadata": {},
   "outputs": [
    {
     "name": "stdout",
     "output_type": "stream",
     "text": [
      "[0.7361963190184051, 0.6904761904761905, 0.7811447811447811, 0.7019867549668874, 0.7499999999999999, 0.7019867549668873, 0.6956521739130436, 0.7752442996742671, 0.711864406779661, 0.6614785992217899]\n"
     ]
    }
   ],
   "source": [
    "print(f1)"
   ]
  },
  {
   "cell_type": "markdown",
   "metadata": {},
   "source": [
    "### Random Forest"
   ]
  },
  {
   "cell_type": "code",
   "execution_count": null,
   "metadata": {},
   "outputs": [],
   "source": [
    "# Random Forest\n",
    "clf = RandomForestClassifier(n_estimators=500, max_depth=15, random_state=0)\n",
    "clf.fit(X_train_ROS, y_train_ROS)\n",
    "y_pred = clf.predict(X_val_ROS)\n",
    "print(\"Random Forest accuracy: \", accuracy_score(y_val_ROS, y_pred))\n",
    "print(\"Random Forest F1 score: \", f1_score(y_val_ROS, y_pred))\n",
    "print(\"Random Forest confusion matrix: \\n\", confusion_matrix(y_val_ROS, y_pred))"
   ]
  },
  {
   "cell_type": "markdown",
   "metadata": {},
   "source": [
    "#### Random Search"
   ]
  },
  {
   "cell_type": "code",
   "execution_count": null,
   "metadata": {},
   "outputs": [],
   "source": [
    "# Define hyperparameter distributions\n",
    "param_dist = {\n",
    "    'n_estimators': [int(x) for x in np.linspace(start=200, stop=2000, num=10)],  # Number of trees\n",
    "    'max_features': ['auto', 'sqrt'],  # Number of features to consider for best split\n",
    "    'max_depth': [int(x) for x in np.linspace(10, 200, num=11)],  # Maximum depth of the trees\n",
    "    'min_samples_split': [2, 5, 10],  # Minimum samples required to split a node\n",
    "    'min_samples_leaf': [1, 2, 4],  # Minimum samples required at each leaf node\n",
    "    'bootstrap': [True, False]  # Whether bootstrap samples are used when building trees\n",
    "}\n",
    "\n",
    "# Create the RandomizedSearchCV object\n",
    "random_search = RandomizedSearchCV(\n",
    "    estimator=clf,\n",
    "    param_distributions=param_dist,\n",
    "    n_iter=100,  # Number of parameter settings that are sampled\n",
    "    cv=5,  # Number of cross-validation folds\n",
    "    verbose=3,\n",
    "    scoring=\"accuracy\",\n",
    "    random_state=42,\n",
    "    n_jobs=-1  # Use all available processors"
   ]
  },
  {
   "cell_type": "code",
   "execution_count": null,
   "metadata": {},
   "outputs": [],
   "source": [
    "# Fit the RandomizedSearchCV instance\n",
    "random_search.fit(X_train, y_train)\n",
    "\n",
    "# Retrieve the best parameters found by RandomizedSearchCV\n",
    "best_params = random_search.best_params_\n",
    "print(\"Best Parameters:\", best_params)\n",
    "\n",
    "# Evaluate the model with best parameters on the test set\n",
    "best_estimator = random_search.best_estimator_\n",
    "test_accuracy = best_estimator.score(X_val_ROS, y_val_ROS)\n",
    "print(\"Test Accuracy with Best Parameters:\", test_accuracy)"
   ]
  },
  {
   "cell_type": "code",
   "execution_count": null,
   "metadata": {},
   "outputs": [],
   "source": [
    "y_pred_val = best_estimator.predict_proba(X_val_ROS)\n",
    "y_pred = np.argmax(y_pred_val,1)\n",
    "print(\"Random Forest accuracy: \", accuracy_score(y_val_ROS, y_pred))\n",
    "print(\"Random Forest F1 score: \", f1_score(y_val_ROS, y_pred))\n",
    "\n",
    "\n",
    "cm = confusion_matrix(y_val_ROS, y_pred)\n",
    "\n",
    "disp = ConfusionMatrixDisplay(confusion_matrix=cm,\n",
    "                              display_labels=best_estimator.classes_)\n",
    "\n",
    "disp.plot()\n",
    "plt.show()"
   ]
  },
  {
   "cell_type": "markdown",
   "metadata": {},
   "source": [
    "#### Grid Search"
   ]
  },
  {
   "cell_type": "code",
   "execution_count": null,
   "metadata": {},
   "outputs": [],
   "source": [
    "rf_grid = RandomForestClassifier()\n",
    "gr_space = {\n",
    "    'max_depth': [50, 100, 150, 200],\n",
    "    'n_estimators': [300,500,750,1000,1500,2000],\n",
    "}\n",
    "\n",
    "grid = GridSearchCV(rf_grid, gr_space, cv = 3, scoring='accuracy', verbose = 3)\n",
    "model_grid = grid.fit(X_train_ROS, y_train_ROS)\n",
    "\n",
    "print('Best hyperparameters are '+str(model_grid.best_params_))\n",
    "print('Best score is: ' + str(model_grid.best_score_))"
   ]
  },
  {
   "cell_type": "markdown",
   "metadata": {},
   "source": [
    "#### Predictions on X_extra"
   ]
  },
  {
   "cell_type": "code",
   "execution_count": null,
   "metadata": {},
   "outputs": [],
   "source": [
    "# Prediction on X_extra\n",
    "y_pred_extra = best_estimator.predict_proba(X_extra_processed)\n",
    "\n",
    "indexes = np.where(y_pred_extra[:,0]>0.999)[0]\n",
    "\n",
    "y_pred_extra = np.argmax(y_pred_extra[indexes],1)\n"
   ]
  },
  {
   "cell_type": "markdown",
   "metadata": {},
   "source": [
    "#### Adding X_extra to the training set\n"
   ]
  },
  {
   "cell_type": "code",
   "execution_count": null,
   "metadata": {},
   "outputs": [],
   "source": [
    "ros = imb.over_sampling.RandomOverSampler(random_state=None)\n",
    "\n",
    "X_train_combined, X_val_combined, y_combined, y_val_combined = train_test_split(X_train, y_train, test_size=0.2)\n",
    "\n",
    "X_combined_ROS, y_combined_ROS = ros.fit_resample(X_train_combined, y_combined)\n",
    "\n",
    "X_combined_ROS = np.concatenate((X_combined_ROS, X_extra_processed[indexes]), axis=0)\n",
    "y_combined_ROS = np.concatenate((y_combined_ROS, y_pred_extra), axis=0)\n",
    "\n",
    "# One hot encoding\n",
    "train_labels_ROS = keras.utils.to_categorical(y_combined_ROS,2)\n",
    "val_labels_ROS = keras.utils.to_categorical(y_val_ROS,2)\n",
    "\n",
    "print(\"The number of training samples with class 0 after ROS :\", np.sum(y_combined_ROS==0)+np.sum(y_val_combined==0))\n",
    "print(\"The number of training samples with class 1 after ROS :\", np.sum(y_combined_ROS==1)+np.sum(y_val_combined==1))"
   ]
  },
  {
   "cell_type": "markdown",
   "metadata": {},
   "source": [
    "#### Training"
   ]
  },
  {
   "cell_type": "code",
   "execution_count": 17,
   "metadata": {},
   "outputs": [
    {
     "ename": "NameError",
     "evalue": "name 'clf_rs' is not defined",
     "output_type": "error",
     "traceback": [
      "\u001b[0;31m---------------------------------------------------------------------------\u001b[0m",
      "\u001b[0;31mNameError\u001b[0m                                 Traceback (most recent call last)",
      "\u001b[0;32m/var/folders/t4/p2_p2gv10lzcn1qtkfyb20vr0000gn/T/ipykernel_7770/2562261728.py\u001b[0m in \u001b[0;36m<module>\u001b[0;34m\u001b[0m\n\u001b[1;32m      1\u001b[0m \u001b[0;31m# Training clf_rs\u001b[0m\u001b[0;34m\u001b[0m\u001b[0;34m\u001b[0m\u001b[0m\n\u001b[0;32m----> 2\u001b[0;31m \u001b[0mclf_rs\u001b[0m\u001b[0;34m.\u001b[0m\u001b[0mfit\u001b[0m\u001b[0;34m(\u001b[0m\u001b[0mX_combined_ROS\u001b[0m\u001b[0;34m,\u001b[0m \u001b[0my_combined_ROS\u001b[0m\u001b[0;34m)\u001b[0m\u001b[0;34m\u001b[0m\u001b[0;34m\u001b[0m\u001b[0m\n\u001b[0m",
      "\u001b[0;31mNameError\u001b[0m: name 'clf_rs' is not defined"
     ]
    }
   ],
   "source": [
    "# Training clf_rs\n",
    "best_estimator.fit(X_combined_ROS, y_combined_ROS)"
   ]
  },
  {
   "cell_type": "code",
   "execution_count": null,
   "metadata": {},
   "outputs": [],
   "source": [
    "# Metrics\n",
    "cf_mat = confusion_matrix(y_val_combined, best_estimator.predict(X_val_combined))\n",
    "print(\"Random Forest accuracy: \", accuracy_score(y_val_combined, best_estimator.predict(X_val_combined)))\n",
    "print(cf_mat)"
   ]
  },
  {
   "cell_type": "markdown",
   "metadata": {},
   "source": [
    "### Convutional NN : AlexNet"
   ]
  },
  {
   "cell_type": "markdown",
   "metadata": {},
   "source": [
    "#### Preparing the data to be used in the neural tetwork:"
   ]
  },
  {
   "cell_type": "code",
   "execution_count": null,
   "metadata": {},
   "outputs": [],
   "source": [
    "X_train_valanced = X_train_ROS.reshape(X_train_ROS.shape[0],48,48)\n",
    "X_val_valanced = X_val.reshape(X_val.shape[0],48,48)\n",
    "\n",
    "X_train_normalized = (X_train_valanced / 255.0).astype(np.float32)  # Tensors only admit normalized float data\n",
    "X_val_normalized = (X_val_valanced / 255.0).astype(np.float32)\n",
    "\n",
    "X_train_tensor = torch.tensor(X_train_normalized, dtype=torch.float32)\n",
    "X_train_tensor = X_train_tensor.unsqueeze(1)  # We add a dimension to be used in the neural network\n",
    "X_val_tensor = torch.tensor(X_val_normalized, dtype=torch.float32)\n",
    "X_val_tensor = X_val_tensor.unsqueeze(1)\n",
    "\n",
    "y_train_tensor = torch.tensor(y_train_ROS, dtype=torch.long)\n",
    "y_val_tensor = torch.tensor(y_val, dtype=torch.long)\n",
    "\n",
    "\n",
    "train_dataset = TensorDataset(X_train_tensor, y_train_tensor)\n",
    "val_dataset = TensorDataset(X_val_tensor, y_val_tensor)\n",
    "\n",
    "train_loader = DataLoader(dataset=train_dataset, batch_size=64, shuffle=True)\n",
    "val_loader = DataLoader(dataset=val_dataset, batch_size=64, shuffle=False) # To have the same referenc at any epoch"
   ]
  },
  {
   "cell_type": "markdown",
   "metadata": {},
   "source": [
    "#### Definition of the Net"
   ]
  },
  {
   "cell_type": "code",
   "execution_count": null,
   "metadata": {},
   "outputs": [],
   "source": [
    "class LeNet(nn.Module):\n",
    "    def __init__(self):\n",
    "        super(LeNet, self).__init__()\n",
    "         # Layers creation\n",
    "        self.conv1 = nn.Conv2d(1, 6, 5, padding=2) #Padding = kernel_size//2\n",
    "        self.mp1 = nn.MaxPool2d(2) # Reduces the dimensions of the layer by getting the important value\n",
    "        self.conv2 = nn.Conv2d(6, 18, 5, padding=2)\n",
    "        self.mp2 = nn.MaxPool2d(2)\n",
    "        self.conv3 = nn.Conv2d(18, 126, 3, padding=1)\n",
    "        self.fc1 = nn.Linear(12*12*126, 256) # Reduces the dimension of the features\n",
    "        self.fc2 = nn.Linear(256, 2) # Output layer\n",
    "\n",
    "    def forward(self, x):\n",
    "       # Backpropagation of the error\n",
    "        x = F.relu(self.conv1(x)) # Activation funtion\n",
    "        x = self.mp1(x)\n",
    "        x = F.relu(self.conv2(x))\n",
    "        x = self.mp2(x)\n",
    "        x = F.relu(self.conv3(x))\n",
    "        x = x.view(-1, 12*12*126)\n",
    "        x = F.relu(self.fc1(x))\n",
    "        x = F.sigmoid(self.fc2(x)) # Activation funtion at the output\n",
    "        return x"
   ]
  },
  {
   "cell_type": "markdown",
   "metadata": {},
   "source": [
    "#### Loss Function and Optimizer"
   ]
  },
  {
   "cell_type": "code",
   "execution_count": 18,
   "metadata": {},
   "outputs": [
    {
     "ename": "NameError",
     "evalue": "name 'LeNet' is not defined",
     "output_type": "error",
     "traceback": [
      "\u001b[0;31m---------------------------------------------------------------------------\u001b[0m",
      "\u001b[0;31mNameError\u001b[0m                                 Traceback (most recent call last)",
      "\u001b[0;32m/var/folders/t4/p2_p2gv10lzcn1qtkfyb20vr0000gn/T/ipykernel_7770/3696976353.py\u001b[0m in \u001b[0;36m<module>\u001b[0;34m\u001b[0m\n\u001b[0;32m----> 1\u001b[0;31m \u001b[0mmodel\u001b[0m \u001b[0;34m=\u001b[0m \u001b[0mLeNet\u001b[0m\u001b[0;34m(\u001b[0m\u001b[0;34m)\u001b[0m\u001b[0;34m\u001b[0m\u001b[0;34m\u001b[0m\u001b[0m\n\u001b[0m\u001b[1;32m      2\u001b[0m \u001b[0mcriterion\u001b[0m \u001b[0;34m=\u001b[0m \u001b[0mnn\u001b[0m\u001b[0;34m.\u001b[0m\u001b[0mCrossEntropyLoss\u001b[0m\u001b[0;34m(\u001b[0m\u001b[0;34m)\u001b[0m \u001b[0;31m# Loss funtion\u001b[0m\u001b[0;34m\u001b[0m\u001b[0;34m\u001b[0m\u001b[0m\n\u001b[1;32m      3\u001b[0m \u001b[0;31m#optimizer = optim.Adam(model.parameters(), lr=0.01) #Learning rate and momentum, adam decreases automatically the lr\u001b[0m\u001b[0;34m\u001b[0m\u001b[0;34m\u001b[0m\u001b[0m\n\u001b[1;32m      4\u001b[0m \u001b[0moptimizer\u001b[0m \u001b[0;34m=\u001b[0m \u001b[0moptim\u001b[0m\u001b[0;34m.\u001b[0m\u001b[0mSGD\u001b[0m\u001b[0;34m(\u001b[0m\u001b[0mmodel\u001b[0m\u001b[0;34m.\u001b[0m\u001b[0mparameters\u001b[0m\u001b[0;34m(\u001b[0m\u001b[0;34m)\u001b[0m\u001b[0;34m,\u001b[0m \u001b[0mlr\u001b[0m\u001b[0;34m=\u001b[0m\u001b[0;36m0.01\u001b[0m\u001b[0;34m,\u001b[0m \u001b[0mmomentum\u001b[0m\u001b[0;34m=\u001b[0m\u001b[0;36m0.9\u001b[0m\u001b[0;34m)\u001b[0m \u001b[0;31m#Learning rate and momentum\u001b[0m\u001b[0;34m\u001b[0m\u001b[0;34m\u001b[0m\u001b[0m\n\u001b[1;32m      5\u001b[0m \u001b[0mscheduler\u001b[0m \u001b[0;34m=\u001b[0m \u001b[0mtorch\u001b[0m\u001b[0;34m.\u001b[0m\u001b[0moptim\u001b[0m\u001b[0;34m.\u001b[0m\u001b[0mlr_scheduler\u001b[0m\u001b[0;34m.\u001b[0m\u001b[0mStepLR\u001b[0m\u001b[0;34m(\u001b[0m\u001b[0moptimizer\u001b[0m\u001b[0;34m,\u001b[0m \u001b[0mstep_size\u001b[0m\u001b[0;34m=\u001b[0m\u001b[0;36m40\u001b[0m\u001b[0;34m,\u001b[0m \u001b[0mgamma\u001b[0m\u001b[0;34m=\u001b[0m\u001b[0;36m0.1\u001b[0m\u001b[0;34m)\u001b[0m\u001b[0;34m\u001b[0m\u001b[0;34m\u001b[0m\u001b[0m\n",
      "\u001b[0;31mNameError\u001b[0m: name 'LeNet' is not defined"
     ]
    }
   ],
   "source": [
    "model = LeNet()\n",
    "criterion = nn.CrossEntropyLoss() # Loss funtion\n",
    "#optimizer = optim.Adam(model.parameters(), lr=0.01) #Learning rate and momentum, adam decreases automatically the lr\n",
    "optimizer = optim.SGD(model.parameters(), lr=0.01, momentum=0.9) #Learning rate and momentum\n",
    "scheduler = torch.optim.lr_scheduler.StepLR(optimizer, step_size=40, gamma=0.1)\n",
    "#scheduler = ReduceLROnPlateau(optimizer, mode='min', factor=0.1, patience=5, threshold=0.0001, verbose=True)\n",
    "\n",
    "model"
   ]
  },
  {
   "cell_type": "markdown",
   "metadata": {},
   "source": [
    "#### Training"
   ]
  },
  {
   "cell_type": "code",
   "execution_count": null,
   "metadata": {},
   "outputs": [],
   "source": [
    "n_epochs = 60\n",
    "\n",
    "train_accuracy = torch.zeros(n_epochs)\n",
    "train_loss = torch.zeros(n_epochs)\n",
    "val_accuracy = torch.zeros(n_epochs)\n",
    "val_loss = torch.zeros(n_epochs)\n",
    "\n",
    "\n",
    "for epoch in range(n_epochs):\n",
    "\n",
    "    # Train\n",
    "    print(\"Epoch \",epoch)\n",
    "    model.train()\n",
    "    running_loss = 0.0 # Loss of each epoch\n",
    "    running_acc = 0.0 # Accuracy of each epoch\n",
    "    total = 0\n",
    "    for i, (images, labels) in enumerate(train_loader, 0):\n",
    "        total += labels.shape[0]\n",
    "        # Gradients inicialization\n",
    "        optimizer.zero_grad()\n",
    "\n",
    "        # forward + backward + optimize\n",
    "        outputs = model(images) # Forward-pass\n",
    "        loss = criterion(outputs, labels) # Loss computing\n",
    "        loss.backward()# Backward pass\n",
    "        optimizer.step() # Optimization\n",
    "\n",
    "        # Estatistics\n",
    "        running_loss += loss.item() # Total loss of the current batch\n",
    "        # extraemos las etiquetas que predice (nº neurona con máxima probabilidad)\n",
    "        _, predicted = torch.max(outputs, 1)\n",
    "        running_acc += torch.sum(predicted==labels) # Number of correct predictions\n",
    "    train_accuracy[epoch] = running_acc/total\n",
    "    train_loss[epoch] = running_loss/total\n",
    "    print(f'Train      >>> Epoch {epoch} >>>>   Train Loss: {running_loss/total}, Train Acc: {running_acc/total}')\n",
    "\n",
    "    # Validation\n",
    "    model.eval()  # modo evaluación, desactiva dropout, batchnorm, etc.\n",
    "    running_val_loss = 0.0  # # Loss of each epoch\n",
    "    running_val_acc = 0.0  # Accuracy of each epoch\n",
    "    total_val = 0\n",
    "\n",
    "    with torch.no_grad():  # Gradient desactivation for validation\n",
    "        for i, (images, labels) in enumerate(val_loader, 0):\n",
    "            total_val += labels.shape[0]\n",
    "\n",
    "            outputs = model(images)  # forward-pass\n",
    "            loss = criterion(outputs, labels)  # Loss computing\n",
    "\n",
    "            running_val_loss += loss.item()  # Total loss of the current batch\n",
    "            _, predicted = torch.max(outputs, 1)  # Predictions\n",
    "            running_val_acc += torch.sum(predicted == labels)  # Number of correct predictions\n",
    "\n",
    "    val_accuracy[epoch] = running_val_acc/total_val  # Validation accuracy\n",
    "    val_loss[epoch] = running_val_loss/total_val\n",
    "    print(f'Validation >>> Epoch {epoch} >>>>   Val Loss:   {running_val_loss/total_val}, Val Acc:   {running_val_acc/total_val}')\n",
    "\n",
    "    current_lr = optimizer.param_groups[0]['lr']  # Learning rate of the epoch\n",
    "    print(f'Current learning rate: {current_lr:.6f}')\n",
    "    print()\n",
    "    scheduler.step()  # Step reduction every \"step size\" epochs\n",
    "\n",
    "\n",
    "# F1 score\n",
    "outputs = model(X_val_tensor)\n",
    "_, y_predicted = torch.max(outputs, 1) # obtención de etiquetas numéricas\n",
    "f1 = f1_score(y_val_tensor, y_predicted, average='macro')\n",
    "print('F1: %.3f' % f1)\n",
    "print()\n",
    "\n",
    "\n",
    "#figure, ax2, = plt.subplotss\n",
    "plt.plot(range(n_epochs), train_accuracy, label='Training')\n",
    "plt.plot(range(n_epochs), val_accuracy, label='Validation')\n",
    "plt.xlabel('Epoch')\n",
    "plt.ylabel('Accuracy (%)')\n",
    "plt.legend(loc='best')\n",
    "plt.grid(True)\n",
    "plt.show()\n",
    "\n",
    "plt.plot(range(n_epochs), train_loss, label='Training')\n",
    "plt.plot(range(n_epochs), val_loss, label='Validation')\n",
    "plt.xlabel('Epoch')\n",
    "plt.ylabel('Loss (%)')\n",
    "plt.legend(loc='best')\n",
    "plt.grid(True)\n",
    "plt.show()"
   ]
  },
  {
   "cell_type": "markdown",
   "metadata": {},
   "source": [
    "#### X_extra transformation"
   ]
  },
  {
   "cell_type": "code",
   "execution_count": 19,
   "metadata": {},
   "outputs": [
    {
     "ename": "NameError",
     "evalue": "name 'X_extra_processed' is not defined",
     "output_type": "error",
     "traceback": [
      "\u001b[0;31m---------------------------------------------------------------------------\u001b[0m",
      "\u001b[0;31mNameError\u001b[0m                                 Traceback (most recent call last)",
      "\u001b[0;32m/var/folders/t4/p2_p2gv10lzcn1qtkfyb20vr0000gn/T/ipykernel_7770/2243166905.py\u001b[0m in \u001b[0;36m<module>\u001b[0;34m\u001b[0m\n\u001b[0;32m----> 1\u001b[0;31m \u001b[0mX_extra_normalized\u001b[0m \u001b[0;34m=\u001b[0m \u001b[0;34m(\u001b[0m\u001b[0mX_extra_processed\u001b[0m \u001b[0;34m/\u001b[0m \u001b[0;36m255.0\u001b[0m\u001b[0;34m)\u001b[0m\u001b[0;34m.\u001b[0m\u001b[0mastype\u001b[0m\u001b[0;34m(\u001b[0m\u001b[0mnp\u001b[0m\u001b[0;34m.\u001b[0m\u001b[0mfloat32\u001b[0m\u001b[0;34m)\u001b[0m  \u001b[0;31m# Tensors only admit normalized float data\u001b[0m\u001b[0;34m\u001b[0m\u001b[0;34m\u001b[0m\u001b[0m\n\u001b[0m\u001b[1;32m      2\u001b[0m \u001b[0;34m\u001b[0m\u001b[0m\n\u001b[1;32m      3\u001b[0m \u001b[0mX_extra_tensor\u001b[0m \u001b[0;34m=\u001b[0m \u001b[0mtorch\u001b[0m\u001b[0;34m.\u001b[0m\u001b[0mtensor\u001b[0m\u001b[0;34m(\u001b[0m\u001b[0mX_extra_normalized\u001b[0m\u001b[0;34m,\u001b[0m \u001b[0mdtype\u001b[0m\u001b[0;34m=\u001b[0m\u001b[0mtorch\u001b[0m\u001b[0;34m.\u001b[0m\u001b[0mfloat32\u001b[0m\u001b[0;34m)\u001b[0m\u001b[0;34m\u001b[0m\u001b[0;34m\u001b[0m\u001b[0m\n\u001b[1;32m      4\u001b[0m \u001b[0mX_extra_tensor\u001b[0m \u001b[0;34m=\u001b[0m \u001b[0mX_extra_tensor\u001b[0m\u001b[0;34m.\u001b[0m\u001b[0munsqueeze\u001b[0m\u001b[0;34m(\u001b[0m\u001b[0;36m1\u001b[0m\u001b[0;34m)\u001b[0m  \u001b[0;31m# We add a dimension to be used in the neural network\u001b[0m\u001b[0;34m\u001b[0m\u001b[0;34m\u001b[0m\u001b[0m\n",
      "\u001b[0;31mNameError\u001b[0m: name 'X_extra_processed' is not defined"
     ]
    }
   ],
   "source": [
    "\n",
    "\n",
    "X_extra_normalized = (X_extra_processed / 255.0).astype(np.float32)  # Tensors only admit normalized float data\n",
    "\n",
    "X_extra_tensor = torch.tensor(X_extra_normalized, dtype=torch.float32)\n",
    "X_extra_tensor = X_extra_tensor.unsqueeze(1)  # We add a dimension to be used in the neural network\n"
   ]
  },
  {
   "cell_type": "markdown",
   "metadata": {},
   "source": [
    "#### Predictions on X_extra"
   ]
  },
  {
   "cell_type": "code",
   "execution_count": null,
   "metadata": {},
   "outputs": [],
   "source": [
    "# Data prediction\n",
    "outputs = model(X_extra_tensor)\n",
    "_, y_predicted = torch.max(outputs, 1)\n",
    "indexes = np.where(outputs[:,0]>0.975)\n",
    "print('Number of samples in the extra set: ', outputs.shape[0])\n",
    "print('Number of samples whose probability to belong to class \"0\" is high: ', len(indexes[0]))"
   ]
  },
  {
   "cell_type": "markdown",
   "metadata": {},
   "source": [
    "#### Adding to training Set"
   ]
  },
  {
   "cell_type": "code",
   "execution_count": null,
   "metadata": {},
   "outputs": [],
   "source": [
    "X_train_combined, X_val, y_train_combined, y_val = train_test_split(X_train_processed, y_train, test_size=0.2)\n",
    "\n",
    "X_extra_processed = X_extra_processed.reshape(X_extra_processed.shape[0],48*48)\n",
    "\n",
    "X_train_combined = np.concatenate((X_train_combined,X_extra_processed[indexes]),axis=0)\n",
    "y_train_combined = np.concatenate((y_train_combined,y_predicted[indexes]),axis=0)\n",
    "\n",
    "print(\"The number of training samples with class 0 before ROS:\", np.sum(y_train_combined==0))\n",
    "print(\"The number of training samples with class 1 before ROS:\", np.sum(y_train_combined==1))"
   ]
  },
  {
   "cell_type": "code",
   "execution_count": null,
   "metadata": {},
   "outputs": [],
   "source": [
    "ros = imb.over_sampling.RandomOverSampler(random_state=None)\n",
    "X_combined_ROS, y_combined_ROS = ros.fit_resample(X_train_combined, y_train_combined)\n",
    "print(\"The number of training samples with class 0 after ROS :\", np.sum(y_combined_ROS==0))\n",
    "print(\"The number of training samples with class 1 after ROS :\", np.sum(y_combined_ROS==1))"
   ]
  },
  {
   "cell_type": "markdown",
   "metadata": {},
   "source": [
    "#### Adaptation for Training with X_extra"
   ]
  },
  {
   "cell_type": "code",
   "execution_count": null,
   "metadata": {},
   "outputs": [],
   "source": [
    "X_combined_valanced_train = X_combined_ROS.reshape(X_combined_ROS.shape[0],48,48)\n",
    "X_combined_valanced_val = X_val.reshape(X_val.shape[0],48,48)\n",
    "\n",
    "\n",
    "X_combined_normalized_train = (X_combined_valanced_train / 255.0).astype(np.float32)  # Tensors only admit normalized float data\n",
    "X_combined_normalized_val = (X_combined_valanced_val / 255.0).astype(np.float32)  # Tensors only admit normalized float data\n",
    "\n",
    "X_combined_tensor_train = torch.tensor(X_combined_normalized_train, dtype=torch.float32)\n",
    "X_combined_tensor_val = torch.tensor(X_combined_normalized_val, dtype=torch.float32)\n",
    "\n",
    "X_combined_tensor_train = X_combined_tensor_train.unsqueeze(1)  # We add a dimension to be used in the neural network\n",
    "X_combined_tensor_val = X_combined_tensor_val.unsqueeze(1)  # We add a dimension to be used in the neural network\n",
    "\n",
    "y_combined_tensor_train = torch.tensor(y_combined_ROS, dtype=torch.long)\n",
    "y_combined_tensor_val = torch.tensor(y_val, dtype=torch.long)\n",
    "\n",
    "combined_train_dataset = TensorDataset(X_combined_tensor_train, y_combined_tensor_train)\n",
    "combined_val_dataset = TensorDataset(X_combined_tensor_val, y_combined_tensor_val)\n",
    "\n",
    "combined_train_loader = DataLoader(dataset=combined_train_dataset, batch_size=64, shuffle=True)\n",
    "combined_val_loader = DataLoader(dataset=combined_val_dataset, batch_size=64, shuffle=False)"
   ]
  },
  {
   "cell_type": "markdown",
   "metadata": {},
   "source": [
    "#### Training with X_extra"
   ]
  },
  {
   "cell_type": "code",
   "execution_count": null,
   "metadata": {},
   "outputs": [],
   "source": [
    "n_epochs = 20\n",
    "\n",
    "optimizer = optim.SGD(model.parameters(), lr=0.001, momentum=0.9) #we need to dedine the optimizer again\n",
    "scheduler = torch.optim.lr_scheduler.StepLR(optimizer, step_size=10, gamma=0.1)\n",
    "\n",
    "train_accuracy = torch.zeros(n_epochs)\n",
    "val_accuracy = torch.zeros(n_epochs)\n",
    "train_loss = torch.zeros(n_epochs)\n",
    "val_loss = torch.zeros(n_epochs)\n",
    "\n",
    "\n",
    "for epoch in range(n_epochs):\n",
    "\n",
    "    # Train\n",
    "    print(\"Epoch \",epoch)\n",
    "    model.train()\n",
    "    running_train_loss = 0.0 # Loss of each epoch\n",
    "    running_train_acc = 0.0 # Accuracy of each epoch\n",
    "    total = 0\n",
    "    for i, (images, labels) in enumerate(combined_train_loader, 0):\n",
    "        total += labels.shape[0]\n",
    "        # Gradients inicialization\n",
    "        optimizer.zero_grad()\n",
    "\n",
    "        # forward + backward + optimize\n",
    "        outputs = model(images) # Forward-pass\n",
    "        loss = criterion(outputs, labels) # Loss computing\n",
    "        loss.backward()# Backward pass\n",
    "        optimizer.step() # Optimization\n",
    "\n",
    "        # Estatistics\n",
    "        running_train_loss += loss.item() # Total loss of the current batch\n",
    "        # extraemos las etiquetas que predice (nº neurona con máxima probabilidad)\n",
    "        _, predicted = torch.max(outputs, 1)\n",
    "        running_train_acc += torch.sum(predicted==labels) # Number of correct predictions\n",
    "\n",
    "    train_accuracy[epoch]=running_train_acc/total\n",
    "    train_loss[epoch]=running_train_loss/total\n",
    "    print(f'Train      >>> Epoch {epoch} >>>>   Train Loss: {running_train_loss/total/total}, Train Acc: {running_train_acc/total}')\n",
    "\n",
    "    # Validation\n",
    "    model.eval()  # modo evaluación, desactiva dropout, batchnorm, etc.\n",
    "    running_val_loss = 0.0  # # Loss of each epoch\n",
    "    running_val_acc = 0.0  # Accuracy of each epoch\n",
    "    total_val = 0\n",
    "\n",
    "    with torch.no_grad():  # Gradient desactivation for validation\n",
    "        for i, (images, labels) in enumerate(combined_val_loader, 0):\n",
    "            total_val += labels.shape[0]\n",
    "\n",
    "            outputs = model(images)  # forward-pass\n",
    "            loss = criterion(outputs, labels)  # Loss computing\n",
    "\n",
    "            running_val_loss += loss.item()  # Total loss of the current batch\n",
    "            _, predicted = torch.max(outputs, 1)  # Predictions\n",
    "            running_val_acc += torch.sum(predicted == labels)  # Number of correct predictions\n",
    "\n",
    "    val_accuracy[epoch]=running_val_acc/total_val  # Validation accuracy\n",
    "    val_loss[epoch]=running_val_loss/total\n",
    "    print(f'Validation >>> Epoch {epoch} >>>>   Val Loss:   {running_val_loss/total_val}, Val Acc:   {running_val_acc/total_val}')\n",
    "\n",
    "    current_lr = optimizer.param_groups[0]['lr']  # Learning rate of the epoch\n",
    "    print(f'Current learning rate: {current_lr:.6f}')\n",
    "    print()\n",
    "    scheduler.step()  # Step reduction every \"step size\" epochs\n",
    "\n",
    "\n",
    "plt.plot(range(n_epochs), train_accuracy, label='Training')\n",
    "plt.plot(range(n_epochs), val_accuracy, label='Validation')\n",
    "plt.xlabel('Epoch')\n",
    "plt.ylabel('Accuracy (%)')\n",
    "plt.legend(loc='best')\n",
    "plt.grid(True)\n",
    "plt.show()\n",
    "\n",
    "\n",
    "plt.plot(range(n_epochs), train_loss, label='Training')\n",
    "plt.plot(range(n_epochs), val_loss, label='Validation')\n",
    "plt.xlabel('Epoch')\n",
    "plt.ylabel('Loss (%)')\n",
    "plt.legend(loc='best')\n",
    "plt.grid(True)\n",
    "plt.show()"
   ]
  },
  {
   "cell_type": "markdown",
   "metadata": {},
   "source": [
    "#### Confusion Matrix"
   ]
  },
  {
   "cell_type": "code",
   "execution_count": null,
   "metadata": {},
   "outputs": [],
   "source": [
    "outputs = model(X_combined_tensor_val)\n",
    "_, y_combined_predicted = torch.max(outputs, 1) # obtención de etiquetas numéricas\n",
    "\n",
    "con_matrix = confusion_matrix(y_true=y_combined_tensor_val, y_pred=y_combined_predicted)\n",
    "\n",
    "fig, ax = plt.subplots(figsize=(2.5, 2.5))\n",
    "ax.matshow(con_matrix, cmap=plt.cm.Greens, alpha=0.4)\n",
    "\n",
    "\n",
    "for i in range(con_matrix.shape[0]):\n",
    "    for j in range(con_matrix.shape[1]):\n",
    "        ax.text(x=j, y=i,\n",
    "                s=con_matrix[i, j],\n",
    "                va='center', ha='center')\n",
    "\n",
    "plt.xlabel('Predicted class')\n",
    "plt.ylabel('Real class')\n",
    "plt.show()\n",
    "\n",
    "\n",
    "# F1 score\n",
    "f1 = f1_score(y_combined_tensor_val, y_combined_predicted, average='macro')\n",
    "print('F1: %.3f' % f1)\n",
    "print()"
   ]
  },
  {
   "cell_type": "markdown",
   "metadata": {},
   "source": [
    "## Predictions on the test set"
   ]
  },
  {
   "cell_type": "code",
   "execution_count": null,
   "metadata": {},
   "outputs": [],
   "source": [
    "im = X_test.reshape(X_test.shape[0],48,48)\n",
    "\n",
    "new = im.copy()\n",
    "\n",
    "threshold = 200\n",
    "for sample in range(im.shape[0]):\n",
    "\n",
    "  # Oustanding boundaries\n",
    "  for i in range(im.shape[1]):\n",
    "      for j in range(im.shape[2]):\n",
    "          if (im[sample][i][j] > threshold) | (im[sample][i][j] < 50):\n",
    "              new[sample][i][j] = 255\n",
    "          else:\n",
    "              new[sample][i][j] = 0\n",
    "\n",
    "  # Removing isolated pixels\n",
    "  for i in range(new.shape[1]):\n",
    "      for j in range(new.shape[2]):\n",
    "          if new[sample][i][j] == 255:\n",
    "              if (i>0) and (j>0) and (i<new.shape[1]-1) and (j<new.shape[2]-1):\n",
    "                  if ((new[sample][i-1][j]==0) and (new[sample][i+1][j]==0) and\n",
    "                      (new[sample][i][j-1]==0) and (new[sample][i][j+1]==0) and\n",
    "                      (new[sample][i-1][j-1]==0) and (new[sample][i-1][j+1]==0) and\n",
    "                      (new[sample][i+1][j-1]==0) and (new[sample][i+1][j+1]==0)):\n",
    "\n",
    "                        new[sample][i][j] = 0"
   ]
  },
  {
   "cell_type": "code",
   "execution_count": null,
   "metadata": {},
   "outputs": [],
   "source": [
    "X_test_processed = new.copy()\n",
    "\n",
    "X_test_normalized = (X_test_processed / 255.0).astype(np.float32)  # Tensors only admit normalized float data\n",
    "\n",
    "X_test_tensor = torch.tensor(X_test_normalized, dtype=torch.float32)\n",
    "X_test_tensor = X_test_tensor.unsqueeze(1)  # We add a dimension to be used in the neural network"
   ]
  },
  {
   "cell_type": "code",
   "execution_count": null,
   "metadata": {},
   "outputs": [],
   "source": [
    "outputs = model(X_extra_tensor)\n",
    "_, y_test_tensor = torch.max(outputs, 1)"
   ]
  },
  {
   "cell_type": "code",
   "execution_count": null,
   "metadata": {},
   "outputs": [],
   "source": [
    "y_test_np = y_test_tensor.numpy()\n",
    "np.save('y_test', y_test_np)"
   ]
  }
 ],
 "metadata": {
  "kernelspec": {
   "display_name": "base",
   "language": "python",
   "name": "python3"
  },
  "language_info": {
   "codemirror_mode": {
    "name": "ipython",
    "version": 3
   },
   "file_extension": ".py",
   "mimetype": "text/x-python",
   "name": "python",
   "nbconvert_exporter": "python",
   "pygments_lexer": "ipython3",
   "version": "3.9.13"
  }
 },
 "nbformat": 4,
 "nbformat_minor": 2
}
