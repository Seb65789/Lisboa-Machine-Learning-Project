{
 "cells": [
  {
   "cell_type": "markdown",
   "metadata": {},
   "source": [
    "# Group 96"
   ]
  },
  {
   "cell_type": "code",
   "execution_count": 34,
   "metadata": {},
   "outputs": [],
   "source": [
    "import numpy as np\n",
    "from sklearn.feature_extraction.image import reconstruct_from_patches_2d\n",
    "from sklearn.feature_extraction.image import extract_patches_2d\n",
    "import matplotlib.pyplot as plt"
   ]
  },
  {
   "cell_type": "markdown",
   "metadata": {},
   "source": [
    "## extract patches 2d\n",
    "\n",
    "Reshape a 2D image into a collection of patches of the choosen size.\n",
    "The resulting patches are allocated in a dedicated array.\n",
    "\n",
    "## reconstruct from patches 2d\n",
    "\n",
    "Reconstruct the image from all of its patches.\n",
    "Patches are assumed to overlap and the image is constructed by filling in the patches from left to right, top to bottom, averaging the overlapping regions."
   ]
  },
  {
   "cell_type": "markdown",
   "metadata": {},
   "source": [
    "# Data Importation"
   ]
  },
  {
   "cell_type": "code",
   "execution_count": 65,
   "metadata": {},
   "outputs": [],
   "source": [
    "# Importing the training patched dataset\n",
    "Xtrain_a = np.load('Xtrain2_a.npy')\n",
    "Ytrain_a = np.load('Ytrain2_a.npy')\n",
    "\n",
    "# Importing the training flattened dataset\n",
    "Xtrain_b = np.load('Xtrain2_b.npy')\n",
    "Ytrain_b = np.load('Ytrain2_b.npy')"
   ]
  },
  {
   "cell_type": "code",
   "execution_count": 12,
   "metadata": {},
   "outputs": [
    {
     "name": "stdout",
     "output_type": "stream",
     "text": [
      "Number of samples in class 0: 649624\n",
      "Number of samples in class 1: 315284\n",
      "Percentage of samples in class 1:  48.5333054197505\n",
      "Number of samples in class 0: 896429\n",
      "Number of samples in class 1: 363859\n",
      "Percentage of samples in class 1:  40.58982920008166\n"
     ]
    }
   ],
   "source": [
    "# Imbalance in the dataset a?\n",
    "print('Number of samples in class 0:', np.sum(Ytrain_a == 0))\n",
    "print('Number of samples in class 1:', np.sum(Ytrain_a == 1))\n",
    "print(\"Percentage of samples in class 1: \", (np.sum(Ytrain_a == 1)/np.sum(Ytrain_a==0))*100)\n",
    "\n",
    "# Imbalance in the dataset b?\n",
    "print('Number of samples in class 0:', np.sum(Ytrain_b == 0))\n",
    "print('Number of samples in class 1:', np.sum(Ytrain_b == 1))\n",
    "print(\"Percentage of samples in class 1: \", (np.sum(Ytrain_b == 1)/np.sum(Ytrain_b==0))*100)"
   ]
  },
  {
   "cell_type": "markdown",
   "metadata": {},
   "source": [
    "# Data Visualization"
   ]
  },
  {
   "cell_type": "code",
   "execution_count": 77,
   "metadata": {},
   "outputs": [
    {
     "name": "stdout",
     "output_type": "stream",
     "text": [
      "(964908, 49)\n"
     ]
    }
   ],
   "source": [
    "# Each line in the dataset b is a 2D image of 48x48 pixels\n",
    "Xtrain_b_img = Xtrain_b.reshape(-1, 48, 48)\n",
    "Ytrain_b_img = Ytrain_b.reshape(-1, 48,48)\n",
    "\n",
    "# Each patch is an image of 48x48 pixels\n",
    "print(Xtrain_a.shape)"
   ]
  },
  {
   "cell_type": "markdown",
   "metadata": {},
   "source": []
  }
 ],
 "metadata": {
  "kernelspec": {
   "display_name": "base",
   "language": "python",
   "name": "python3"
  },
  "language_info": {
   "codemirror_mode": {
    "name": "ipython",
    "version": 3
   },
   "file_extension": ".py",
   "mimetype": "text/x-python",
   "name": "python",
   "nbconvert_exporter": "python",
   "pygments_lexer": "ipython3",
   "version": "3.9.13"
  }
 },
 "nbformat": 4,
 "nbformat_minor": 2
}
