{
  "cells": [
    {
      "cell_type": "code",
      "execution_count": 1,
      "metadata": {
        "id": "unqLSAQlTQYk"
      },
      "outputs": [],
      "source": [
        "#conda install pytorch torchvision -c pytorch"
      ]
    },
    {
      "cell_type": "code",
      "execution_count": 1,
      "metadata": {
        "id": "locYDtd5TQYo"
      },
      "outputs": [],
      "source": [
        "import torch\n",
        "import torch.nn as nn\n",
        "import torch.nn.functional as F\n",
        "import torch.optim as optim\n",
        "import torchvision.datasets as dset\n",
        "import torchvision.transforms as transforms\n",
        "from torchvision.utils import make_grid\n",
        "import numpy as np\n",
        "import matplotlib.pyplot as plt\n",
        "import imblearn as imb\n",
        "from imblearn.under_sampling import RandomUnderSampler\n",
        "from sklearn.model_selection import train_test_split\n",
        "import tensorflow as tf\n",
        "from torch.utils.data import TensorDataset, DataLoader\n",
        "from imblearn.over_sampling import RandomOverSampler\n",
        "from google.colab import drive"
      ]
    },
    {
      "cell_type": "code",
      "execution_count": 33,
      "metadata": {
        "colab": {
          "base_uri": "https://localhost:8080/"
        },
        "id": "jR_8EIlZTQYp",
        "outputId": "4fd7400d-c376-407e-819e-41522de8a76e"
      },
      "outputs": [
        {
          "output_type": "stream",
          "name": "stdout",
          "text": [
            "Drive already mounted at /content/drive; to attempt to forcibly remount, call drive.mount(\"/content/drive\", force_remount=True).\n"
          ]
        }
      ],
      "source": [
        "drive.mount('/content/drive')\n",
        "\n",
        "X_train = np.load('/content/drive/MyDrive/Colab Notebooks/Machine learning/Xtrain1.npy')\n",
        "y_train = np.load('/content/drive/MyDrive/Colab Notebooks/Machine learning/Ytrain1.npy')\n",
        "X_test = np.load('/content/drive/MyDrive/Colab Notebooks/Machine learning/Xtest1.npy')\n",
        "X_train1_extra = np.load('/content/drive/MyDrive/Colab Notebooks/Machine learning/Xtrain1_extra.npy')"
      ]
    },
    {
      "cell_type": "markdown",
      "source": [
        "# Data Pre-processing"
      ],
      "metadata": {
        "id": "yH3zUcbmglgW"
      }
    },
    {
      "cell_type": "markdown",
      "source": [
        "# Image processing"
      ],
      "metadata": {
        "id": "oPv89BeFypMV"
      }
    },
    {
      "cell_type": "code",
      "source": [
        "im = X_train.reshape(X_train.shape[0],48,48)\n",
        "\n",
        "new = im.copy()\n",
        "\n",
        "threshold = 200\n",
        "for sample in range(im.shape[0]):\n",
        "\n",
        "  # Oustanding boundaries\n",
        "  for i in range(im.shape[1]):\n",
        "      for j in range(im.shape[2]):\n",
        "          if (im[sample][i][j] > threshold) | (im[sample][i][j] < 50):\n",
        "              new[sample][i][j] = 255\n",
        "          else:\n",
        "              new[sample][i][j] = 0\n",
        "\n",
        "  # Removing isolated pixels\n",
        "  for i in range(new.shape[1]):\n",
        "      for j in range(new.shape[2]):\n",
        "          if new[sample][i][j] == 255:\n",
        "              if (i>0) and (j>0) and (i<new.shape[1]-1) and (j<new.shape[2]-1):\n",
        "                  if ((new[sample][i-1][j]==0) and (new[sample][i+1][j]==0) and\n",
        "                      (new[sample][i][j-1]==0) and (new[sample][i][j+1]==0) and\n",
        "                      (new[sample][i-1][j-1]==0) and (new[sample][i-1][j+1]==0) and\n",
        "                      (new[sample][i+1][j-1]==0) and (new[sample][i+1][j+1]==0)):\n",
        "\n",
        "                        new[sample][i][j] = 0\n",
        "\n",
        "  #m = im.imshow(im,cmap='gray')\n",
        "  #im = im(as_grey=True)\n",
        "  #new = filters.gaussian(new,sigma=0.5)  # Ajusta sigma para controlar el nivel de suavizado\n",
        "  #new= filters.median(new)  # Ajusta sigma para controlar el nivel de suavizado\n",
        "  #image_gaussian = feature.canny(im, sigma=3)  # Ajusta sigma según el nivel de detección de bordes\n"
      ],
      "metadata": {
        "id": "2rTJj1K4g3Xv"
      },
      "execution_count": 79,
      "outputs": []
    },
    {
      "cell_type": "markdown",
      "source": [
        "Verifying if pre-process has been succesful:\n"
      ],
      "metadata": {
        "id": "GgI5OYcpw5PG"
      }
    },
    {
      "cell_type": "code",
      "source": [
        "fig, ax = plt.subplots(1,2)\n",
        "picture = 3\n",
        "ax[0].imshow(im[picture], cmap='gray')\n",
        "ax[1].imshow(new[picture], cmap='gray')\n",
        "print(y_train[picture])"
      ],
      "metadata": {
        "colab": {
          "base_uri": "https://localhost:8080/",
          "height": 307
        },
        "id": "5jpOwB2euVp1",
        "outputId": "c026a6cd-a7c9-4c93-a9f2-fe6f875371a5"
      },
      "execution_count": 80,
      "outputs": [
        {
          "output_type": "stream",
          "name": "stdout",
          "text": [
            "1\n"
          ]
        },
        {
          "output_type": "display_data",
          "data": {
            "text/plain": [
              "<Figure size 640x480 with 2 Axes>"
            ],
            "image/png": "[encoded data removed]"
          },
          "metadata": {}
        }
      ]
    },
    {
      "cell_type": "markdown",
      "source": [
        "We need to reshape the images again into linear vectors to be used in the following section:"
      ],
      "metadata": {
        "id": "Vu_7LXOtzTkP"
      }
    },
    {
      "cell_type": "code",
      "source": [
        "X_train_processed = new.reshape(new.shape[0], -1)"
      ],
      "metadata": {
        "id": "n1TwRUU9zflt"
      },
      "execution_count": 87,
      "outputs": []
    },
    {
      "cell_type": "markdown",
      "source": [
        "Let's verify if it has been done properly:"
      ],
      "metadata": {
        "id": "0o4nsIBd0A30"
      }
    },
    {
      "cell_type": "code",
      "source": [
        "im_val = X_train_processed.reshape(X_train_processed.shape[0],48,48)\n",
        "\n",
        "fig, ax = plt.subplots(1,2)\n",
        "ax[0].imshow(im[picture], cmap='gray')\n",
        "ax[1].imshow(im_val[picture], cmap='gray')\n"
      ],
      "metadata": {
        "colab": {
          "base_uri": "https://localhost:8080/",
          "height": 307
        },
        "id": "ZKBBRkEe0FZP",
        "outputId": "5bc403ba-0674-428f-d681-d8e60d57906e"
      },
      "execution_count": 92,
      "outputs": [
        {
          "output_type": "execute_result",
          "data": {
            "text/plain": [
              "<matplotlib.image.AxesImage at 0x79187e1e3b20>"
            ]
          },
          "metadata": {},
          "execution_count": 92
        },
        {
          "output_type": "display_data",
          "data": {
            "text/plain": [
              "<Figure size 640x480 with 2 Axes>"
            ],
            "image/png": "[encoded data removed]"
          },
          "metadata": {}
        }
      ]
    },
    {
      "cell_type": "markdown",
      "metadata": {
        "id": "os8t_hdVTQYq"
      },
      "source": [
        "## Data Imbalance"
      ]
    },
    {
      "cell_type": "code",
      "execution_count": 93,
      "metadata": {
        "colab": {
          "base_uri": "https://localhost:8080/"
        },
        "id": "yuGT1JGQTQYr",
        "outputId": "ea3dd3de-7cae-443e-89d8-b4808e101b68"
      },
      "outputs": [
        {
          "output_type": "stream",
          "name": "stdout",
          "text": [
            "The number of training samples with class 0 : 1006\n",
            "The number of training samples with class 1 : 1777\n",
            "The percentage of training samples with class 0 : 0.566122678671919\n"
          ]
        }
      ],
      "source": [
        "print(\"The number of training samples with class 0 :\", np.sum(y_train==0))\n",
        "print(\"The number of training samples with class 1 :\", np.sum(y_train==1))\n",
        "print(\"The percentage of training samples with class 0 :\", np.sum(y_train==0)/np.sum(y_train==1))"
      ]
    },
    {
      "cell_type": "markdown",
      "metadata": {
        "id": "839KaYJKTQYt"
      },
      "source": [
        "### Random over-sampling"
      ]
    },
    {
      "cell_type": "code",
      "execution_count": 94,
      "metadata": {
        "colab": {
          "base_uri": "https://localhost:8080/"
        },
        "id": "dnNFhSLLTQYu",
        "outputId": "e91beff6-b3ee-4dd8-a8b2-f2cd0059e225"
      },
      "outputs": [
        {
          "output_type": "stream",
          "name": "stdout",
          "text": [
            "The number of training samples with class 0 after ROS : 1433\n",
            "The number of training samples with class 1 after ROS : 1410\n"
          ]
        }
      ],
      "source": [
        "ros = imb.over_sampling.RandomOverSampler(random_state=None)\n",
        "\n",
        "X_train_ROS, y_train_ROS = ros.fit_resample(X_train_processed, y_train)\n",
        "X_train_ROS, X_val_ROS, y_train_ROS, y_val_ROS = train_test_split(X_train_ROS, y_train_ROS, test_size=0.2)\n",
        "print(\"The number of training samples with class 0 after ROS :\", np.sum(y_train_ROS==0))\n",
        "print(\"The number of training samples with class 1 after ROS :\", np.sum(y_train_ROS==1))"
      ]
    },
    {
      "cell_type": "markdown",
      "source": [
        "# Preparing the data to be used in the neural tetwork:"
      ],
      "metadata": {
        "id": "-mrIc62b1iBB"
      }
    },
    {
      "cell_type": "code",
      "execution_count": 97,
      "metadata": {
        "id": "Km-_getlTQYv"
      },
      "outputs": [],
      "source": [
        "X_train_valanced = X_train_ROS.reshape(X_train_ROS.shape[0],48,48)\n",
        "X_val_valanced = X_val_ROS.reshape(X_val_ROS.shape[0],48,48)\n",
        "\n",
        "X_train_normalized = (X_train_valanced / 255.0).astype(np.float32)  # Tensors only admit normalized float data\n",
        "X_val_normalized = (X_val_valanced / 255.0).astype(np.float32)\n",
        "\n",
        "X_train_tensor = torch.tensor(X_train_normalized, dtype=torch.float32)\n",
        "X_train_tensor = X_train_tensor.unsqueeze(1)  # We add a dimension to be used in the neural network\n",
        "X_val_tensor = torch.tensor(X_val_normalized, dtype=torch.float32)\n",
        "X_val_tensor = X_val_tensor.unsqueeze(1)\n",
        "\n",
        "y_train_tensor = torch.tensor(y_train_ROS, dtype=torch.long)\n",
        "y_val_tensor = torch.tensor(y_val_ROS, dtype=torch.long)\n",
        "\n",
        "\n",
        "train_dataset = TensorDataset(X_train_tensor, y_train_tensor)\n",
        "val_dataset = TensorDataset(X_val_tensor, y_val_tensor)\n",
        "\n",
        "train_loader = DataLoader(dataset=train_dataset, batch_size=50, shuffle=True)\n"
      ]
    },
    {
      "cell_type": "markdown",
      "metadata": {
        "id": "i-ZMdKPyTQYv"
      },
      "source": [
        "# Neural network"
      ]
    },
    {
      "cell_type": "markdown",
      "metadata": {
        "id": "7WIurE5qTQYv"
      },
      "source": [
        "Definition of the net:"
      ]
    },
    {
      "cell_type": "code",
      "execution_count": 98,
      "metadata": {
        "id": "ms4PQGWVTQYw"
      },
      "outputs": [],
      "source": [
        "class LeNet(nn.Module):\n",
        "    def __init__(self):\n",
        "        super(LeNet, self).__init__()\n",
        "         # Layers creation\n",
        "        self.conv1 = nn.Conv2d(1, 6, 5, padding=2) #Padding = kernel_size//2\n",
        "        self.mp1 = nn.MaxPool2d(2) # Reduces the dimensions of the layer by getting the important value\n",
        "        self.conv2 = nn.Conv2d(6, 16, 5, padding=2)\n",
        "        self.mp2 = nn.MaxPool2d(2)\n",
        "        self.conv3 = nn.Conv2d(16, 120, 3, padding=1)\n",
        "        self.fc1 = nn.Linear(12*12*120, 256) # Reduces the dimension of the features\n",
        "        self.fc2 = nn.Linear(256, 2) # Output layer, with only a\n",
        "\n",
        "    def forward(self, x):\n",
        "       # Backpropagation of the error\n",
        "        x = F.relu(self.conv1(x)) # Activation funtion\n",
        "        x = self.mp1(x)\n",
        "        x = F.relu(self.conv2(x))\n",
        "        x = self.mp2(x)\n",
        "        x = F.relu(self.conv3(x))\n",
        "        x = x.view(-1, 12*12*120)\n",
        "        x = F.relu(self.fc1(x))\n",
        "        x = F.sigmoid(self.fc2(x)) # Activation funtion at the output\n",
        "        return x"
      ]
    },
    {
      "cell_type": "markdown",
      "metadata": {
        "id": "hWMH1bzqTQYw"
      },
      "source": [
        "Definition of the loss function and optimizer:"
      ]
    },
    {
      "cell_type": "code",
      "execution_count": 99,
      "metadata": {
        "colab": {
          "base_uri": "https://localhost:8080/"
        },
        "id": "cw1SHa3eTQYw",
        "outputId": "87cd784f-3875-47d2-9bc4-93b2551a54de"
      },
      "outputs": [
        {
          "output_type": "execute_result",
          "data": {
            "text/plain": [
              "LeNet(\n",
              "  (conv1): Conv2d(1, 6, kernel_size=(5, 5), stride=(1, 1), padding=(2, 2))\n",
              "  (mp1): MaxPool2d(kernel_size=2, stride=2, padding=0, dilation=1, ceil_mode=False)\n",
              "  (conv2): Conv2d(6, 16, kernel_size=(5, 5), stride=(1, 1), padding=(2, 2))\n",
              "  (mp2): MaxPool2d(kernel_size=2, stride=2, padding=0, dilation=1, ceil_mode=False)\n",
              "  (conv3): Conv2d(16, 120, kernel_size=(3, 3), stride=(1, 1), padding=(1, 1))\n",
              "  (fc1): Linear(in_features=17280, out_features=256, bias=True)\n",
              "  (fc2): Linear(in_features=256, out_features=2, bias=True)\n",
              ")"
            ]
          },
          "metadata": {},
          "execution_count": 99
        }
      ],
      "source": [
        "model = LeNet()\n",
        "criterion = nn.CrossEntropyLoss() # Loss funtion\n",
        "optimizer = optim.SGD(model.parameters(), lr=0.01, momentum=0.9) #Learning rate and momentum\n",
        "#scheduler = torch.optim.lr_scheduler.StepLR(optimizer, step_size=5, gamma=0.5)\n",
        "model"
      ]
    },
    {
      "cell_type": "markdown",
      "metadata": {
        "id": "5ees4eduTQYw"
      },
      "source": [
        "Intermediate tests:"
      ]
    },
    {
      "cell_type": "code",
      "execution_count": 100,
      "metadata": {
        "colab": {
          "base_uri": "https://localhost:8080/"
        },
        "id": "EhseMT5OTQYx",
        "outputId": "599100ef-9924-435c-d239-95ca83879485"
      },
      "outputs": [
        {
          "output_type": "stream",
          "name": "stdout",
          "text": [
            "torch.Size([2843, 1, 48, 48])\n",
            "torch.Size([2843, 6, 48, 48])\n",
            "torch.Size([2843, 6, 24, 24])\n",
            "torch.Size([2843, 16, 24, 24])\n"
          ]
        }
      ],
      "source": [
        "x1 = X_train_tensor # 2783 pictures 48x48\n",
        "x2 = model.conv1(x1) # For each picture we'll obtain 6 of 48x48, one for each kernel\n",
        "x3 = model.mp1(x2) # Each of the 6 are reduced by half\n",
        "x4 = model.conv2(x3) # Repeat\n",
        "print(x1.shape)\n",
        "print(x2.shape)\n",
        "print(x3.shape)\n",
        "print(x4.shape)"
      ]
    },
    {
      "cell_type": "markdown",
      "metadata": {
        "id": "0TCSEQGSTQYx"
      },
      "source": [
        "Training:"
      ]
    },
    {
      "cell_type": "code",
      "execution_count": 101,
      "metadata": {
        "colab": {
          "base_uri": "https://localhost:8080/",
          "height": 985
        },
        "id": "0fbXQHemTQYx",
        "outputId": "c8a01e34-ee9a-419b-f8f2-d00c49ca460b"
      },
      "outputs": [
        {
          "output_type": "stream",
          "name": "stdout",
          "text": [
            "Train\n",
            ">>> Epoch 0 >>>> Loss: 0.013856583672260845, Acc: 0.547309160232544\n",
            "Train\n",
            ">>> Epoch 1 >>>> Loss: 0.013516783923948478, Acc: 0.6049947142601013\n",
            "Train\n",
            ">>> Epoch 2 >>>> Loss: 0.012027289156254605, Acc: 0.7404150366783142\n",
            "Train\n",
            ">>> Epoch 3 >>>> Loss: 0.011047266714597227, Acc: 0.7492085695266724\n",
            "Train\n",
            ">>> Epoch 4 >>>> Loss: 0.010871277019418212, Acc: 0.7632782459259033\n",
            "Train\n",
            ">>> Epoch 5 >>>> Loss: 0.010865486301337587, Acc: 0.7597607970237732\n",
            "Train\n",
            ">>> Epoch 6 >>>> Loss: 0.01087804058467759, Acc: 0.7618712782859802\n",
            "Train\n",
            ">>> Epoch 7 >>>> Loss: 0.010755504410408602, Acc: 0.7646852135658264\n",
            "Train\n",
            ">>> Epoch 8 >>>> Loss: 0.010713109658127556, Acc: 0.7699612975120544\n",
            "Train\n",
            ">>> Epoch 9 >>>> Loss: 0.010661620008580668, Acc: 0.7741822004318237\n",
            "Train\n",
            ">>> Epoch 10 >>>> Loss: 0.010619331299315193, Acc: 0.7759408950805664\n",
            "Train\n",
            ">>> Epoch 11 >>>> Loss: 0.010591831250883432, Acc: 0.7776995897293091\n",
            "Train\n",
            ">>> Epoch 12 >>>> Loss: 0.010551031106297416, Acc: 0.7812170386314392\n",
            "Train\n",
            ">>> Epoch 13 >>>> Loss: 0.010569651425408931, Acc: 0.7780513763427734\n",
            "Train\n",
            ">>> Epoch 14 >>>> Loss: 0.010581757814331537, Acc: 0.7791065573692322\n"
          ]
        },
        {
          "output_type": "display_data",
          "data": {
            "text/plain": [
              "<Figure size 640x480 with 1 Axes>"
            ],
            "image/png": "[encoded data removed]"
          },
          "metadata": {}
        }
      ],
      "source": [
        "n_epochs = 15\n",
        "\n",
        "accuracy = torch.zeros(n_epochs) #if it fails change 3 * \"accuracy\" by \"ajuste\"\n",
        "\n",
        "for epoch in range(n_epochs):\n",
        "    print(\"Train\")\n",
        "    running_loss = 0.0 # Loss of each epoch\n",
        "    running_acc = 0.0 # Accuracy of each epoch\n",
        "    total = 0\n",
        "    for i, (images, labels) in enumerate(train_loader, 0):\n",
        "        total += labels.shape[0]\n",
        "        # Gradients inicialization\n",
        "        optimizer.zero_grad()\n",
        "\n",
        "        # forward + backward + optimizar\n",
        "        outputs = model(images) # Forward-pass\n",
        "        loss = criterion(outputs, labels) # Loss computing\n",
        "        loss.backward()# Backward pass\n",
        "        optimizer.step() # Optimization\n",
        "\n",
        "        # Estatistics\n",
        "        running_loss += loss.item() # Total loss of the current batch\n",
        "        # extraemos las etiquetas que predice (nº neurona con máxima probabilidad)\n",
        "        _, predicted = torch.max(outputs, 1)\n",
        "        running_acc += torch.sum(predicted==labels) # Number of correct predictions\n",
        "    accuracy[epoch]=running_acc/total\n",
        "    print(f'>>> Epoch {epoch} >>>> Loss: {running_loss/total}, Acc: {running_acc/total}')\n",
        "    #scheduler.step() #Decreasing learning rate\n",
        "\n",
        "plt.plot(range(n_epochs), accuracy)\n",
        "plt.xlabel('Epoch')\n",
        "plt.ylabel('Accuracy (%)')\n",
        "plt.grid(True)"
      ]
    }
  ],
  "metadata": {
    "kernelspec": {
      "display_name": "Python 3",
      "name": "python3"
    },
    "language_info": {
      "codemirror_mode": {
        "name": "ipython",
        "version": 3
      },
      "file_extension": ".py",
      "mimetype": "text/x-python",
      "name": "python",
      "nbconvert_exporter": "python",
      "pygments_lexer": "ipython3",
      "version": "3.12.4"
    },
    "colab": {
      "provenance": []
    }
  },
  "nbformat": 4,
  "nbformat_minor": 0
}